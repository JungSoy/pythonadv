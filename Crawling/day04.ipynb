{
 "cells": [
  {
   "cell_type": "code",
   "execution_count": null,
   "metadata": {},
   "outputs": [],
   "source": [
    "스타벅스 크롤링 & 분석"
   ]
  },
  {
   "cell_type": "code",
   "execution_count": 2,
   "metadata": {},
   "outputs": [],
   "source": [
    "from selenium import webdriver\n",
    "import time\n",
    "from bs4 import BeautifulSoup as bs\n",
    "from selenium.webdriver.common.by import By\n",
    "import pandas as pd"
   ]
  },
  {
   "cell_type": "code",
   "execution_count": 3,
   "metadata": {},
   "outputs": [
    {
     "name": "stderr",
     "output_type": "stream",
     "text": [
      "C:\\Users\\JUNG SO YOUNG\\AppData\\Local\\Temp\\ipykernel_14380\\3232498481.py:2: DeprecationWarning: executable_path has been deprecated, please pass in a Service object\n",
      "  driver = webdriver.Chrome('chromedriver.exe')\n"
     ]
    }
   ],
   "source": [
    "\n",
    "url = 'https://www.starbucks.co.kr/store/store_map.do'\n",
    "driver = webdriver.Chrome('chromedriver.exe')\n",
    "driver.get(url)"
   ]
  },
  {
   "cell_type": "code",
   "execution_count": null,
   "metadata": {},
   "outputs": [],
   "source": [
    "area_btn = '#container > div > form > fieldset > div > section > article.find_store_cont > article > header.loca_search > h3 > a'\n",
    "driver.find_element(By.CSS_SELECTOR,area_btn).click()\n",
    "\n",
    "time.sleep(2)\n",
    "seoul_btn = '#container > div > form > fieldset > div > section > article.find_store_cont > article > article:nth-child(4) > div.loca_step1 > div.loca_step1_cont > ul > li:nth-child(1) > a'\n",
    "driver.find_element(By.CSS_SELECTOR,seoul_btn).click()\n",
    "\n",
    "time.sleep(2)\n",
    "all_btn = '#mCSB_2_container > ul > li:nth-child(1) > a'\n",
    "driver.find_element(By.CSS_SELECTOR,all_btn).click()"
   ]
  },
  {
   "cell_type": "code",
   "execution_count": 5,
   "metadata": {},
   "outputs": [
    {
     "data": {
      "text/plain": [
       "426"
      ]
     },
     "execution_count": 5,
     "metadata": {},
     "output_type": "execute_result"
    }
   ],
   "source": [
    "txt = driver.page_source\n",
    "html = bs(txt)\n",
    "\n",
    "len(html.select('li'))"
   ]
  },
  {
   "cell_type": "code",
   "execution_count": 6,
   "metadata": {},
   "outputs": [
    {
     "data": {
      "text/plain": [
       "10"
      ]
     },
     "execution_count": 6,
     "metadata": {},
     "output_type": "execute_result"
    }
   ],
   "source": [
    "len(html.select('li.quickResultLstCon'))"
   ]
  },
  {
   "cell_type": "code",
   "execution_count": null,
   "metadata": {},
   "outputs": [],
   "source": [
    "shops = html.select('li.quickResultLstCon')"
   ]
  },
  {
   "cell_type": "code",
   "execution_count": null,
   "metadata": {},
   "outputs": [],
   "source": [
    "txt = driver.page_source\n",
    "html = bs(txt)\n",
    "\n",
    "len(html.select('li'))\n",
    "\n",
    "shops = html.select('li.quickResultLstCon')\n",
    "\n",
    "shop = shops[0]\n",
    "shop"
   ]
  },
  {
   "cell_type": "code",
   "execution_count": null,
   "metadata": {},
   "outputs": [],
   "source": [
    "# 위도 : data-lat\n",
    "lat = shop['data-lat']\n",
    "# 경도 : data-long\n",
    "lng = shop['data-long']\n",
    "# 지점명 : data-name\n",
    "name = shop['data-name']\n",
    "\n",
    "# 주소 : 딕셔너리 형태가 아니기 때문에 select으로 추출\n",
    "addr = str(shop.select('p.result_details')[0]).split('<br/>')[0].split('>')[1]\n",
    "\n",
    "# 전화번호 : 주소와 전화번호는 묶여 있으므로 복잡하게 추출\n",
    "tel = str(shop.select('p.result_details')[0]).split('<br/>')[1].split('<')[0]\n",
    "\n",
    "\n",
    "# 매장종류 : 딕셔너리 형태가 아니기 때문에 select으로 추출\n",
    "shoptype = shop.select('i.pin_general')[0].text\n",
    "\n",
    "print(lat)\n",
    "print(lng)\n",
    "print(name)\n",
    "print(addr)\n",
    "print(tel)\n",
    "print(shoptype)"
   ]
  },
  {
   "cell_type": "code",
   "execution_count": null,
   "metadata": {},
   "outputs": [],
   "source": [
    "['매장명', '위도', '경도', '주소', '전화번호', '매장종류']\n",
    "\n",
    "starbucks_list = []\n",
    "\n",
    "for shop in shops:\n",
    "    lat = shop['data-lat']\n",
    "    lng = shop['data-long']\n",
    "    name = shop['data-name']\n",
    "    addr = str(shop.select('p.result_details')[0]).split('<br/>')[0].split('>')[1]\n",
    "    tel = str(shop.select('p.result_details')[0]).split('<br/>')[1].split('<')[0]\n",
    "    stype = shop.select('i')[0].text\n",
    "\n",
    "    time.sleep(0.01)\n",
    "    starbucks_list.append([name, lat, lng, addr, tel, stype])\n",
    "\n",
    "print(starbucks_list)"
   ]
  },
  {
   "cell_type": "code",
   "execution_count": null,
   "metadata": {},
   "outputs": [],
   "source": [
    "df = pd.DataFrame(starbucks_list, columns=['매장명', '위도', '경도', '주소', '전화번호', '매장종류'])\n",
    "df"
   ]
  },
  {
   "cell_type": "code",
   "execution_count": null,
   "metadata": {},
   "outputs": [],
   "source": [
    "df.to_excel('starbucks_seoul.xlsx', index=False)\n",
    "\n",
    "df = pd.read_excel('starbucks_seoul.xlsx', header=0)"
   ]
  },
  {
   "cell_type": "code",
   "execution_count": null,
   "metadata": {},
   "outputs": [],
   "source": [
    "##########################################\n",
    "#                데이터 분석\n",
    "##########################################\n",
    "\n",
    "# !pip install folium"
   ]
  },
  {
   "cell_type": "code",
   "execution_count": null,
   "metadata": {},
   "outputs": [],
   "source": [
    "import folium\n",
    "\n",
    "starmap = folium.Map()\n",
    "\n",
    "starmap"
   ]
  },
  {
   "cell_type": "code",
   "execution_count": null,
   "metadata": {},
   "outputs": [],
   "source": [
    "import folium\n",
    "\n",
    "starmap = folium.Map(\n",
    "    location=[37.5666805, 126.9784147],   # 구글에서 검색한 서울 시청 좌표\n",
    "    zoom_start=11\n",
    ")\n",
    "\n",
    "starmap"
   ]
  },
  {
   "cell_type": "code",
   "execution_count": null,
   "metadata": {},
   "outputs": [],
   "source": [
    "import folium\n",
    "\n",
    "starmap = folium.Map(\n",
    "    location=[37.5666805, 126.9784147],   # 구글에서 검색한 서울 시청 좌표\n",
    "    zoom_start=11,\n",
    "    tiles='Stamen Watercolor'\n",
    ")\n",
    "\n",
    "# 타일 종류\n",
    "# OpenStreetMap (기본값)\n",
    "# Stamen Terrain, Stamen Toner, Stamen Watercolor\n",
    "# CartoDB positron, CartoDB dark_matter\n",
    "starmap"
   ]
  },
  {
   "cell_type": "code",
   "execution_count": null,
   "metadata": {},
   "outputs": [],
   "source": [
    "import folium\n",
    "\n",
    "starmap = folium.Map(\n",
    "    location=[37.5666805, 126.9784147],   # 구글에서 검색한 서울 시청 좌표\n",
    "    zoom_start=11,\n",
    "    tiles='Stamen Terrain'\n",
    ")\n",
    "\n",
    "folium.Marker(\n",
    "    location=[37.5666805, 126.9784147],\n",
    "    fill = True\n",
    ").add_to(starmap)\n",
    "\n",
    "starmap"
   ]
  },
  {
   "cell_type": "code",
   "execution_count": null,
   "metadata": {},
   "outputs": [],
   "source": [
    "import folium\n",
    "\n",
    "starmap = folium.Map(\n",
    "    location=[37.5666805, 126.9784147],   # 구글에서 검색한 서울 시청 좌표\n",
    "    zoom_start=11,\n",
    "    tiles='Stamen Terrain'\n",
    ")\n",
    "\n",
    "# 데이터 프레임에서 위도와 경도 값을 가져와서 600번 반복\n",
    "\n",
    "for idx in df.index:\n",
    "    lat = df.loc[idx, '위도']\n",
    "    lng = df.loc[idx, '경도']\n",
    "\n",
    "\n",
    "folium.Marker(\n",
    "    location=[lat, lng],\n",
    "    fill = True\n",
    ").add_to(starmap)\n",
    "\n",
    "starmap"
   ]
  },
  {
   "cell_type": "code",
   "execution_count": null,
   "metadata": {},
   "outputs": [],
   "source": [
    "# 각 지점에서 '구'명 추출\n",
    "\n",
    "gu_names = []\n",
    "\n",
    "for addr in df['주소']:\n",
    "    gu = addr.split()[1]\n",
    "    gu_names.append(gu)\n",
    "\n",
    "print(gu_names)\n",
    "print(len(gu_names))"
   ]
  },
  {
   "cell_type": "code",
   "execution_count": null,
   "metadata": {},
   "outputs": [],
   "source": [
    "df['시군구명'] = gu_names\n",
    "df"
   ]
  },
  {
   "cell_type": "code",
   "execution_count": null,
   "metadata": {},
   "outputs": [],
   "source": [
    "# 구별 스타벅스 매장 수 계산\n",
    "\n",
    "starbucks_count = df.pivot_table(index='시군구명', \n",
    "                                 values='매장명',\n",
    "                                 aggfunc='count').rename(columns={'매장명':'매장수'})\n",
    "\n",
    "starbucks_count"
   ]
  },
  {
   "cell_type": "code",
   "execution_count": null,
   "metadata": {},
   "outputs": [],
   "source": [
    "# 거주자 수, 업체 수 등의 엑셀 파일과 결합하기\n",
    "\n",
    "seoul_sgg = pd.read_excel('seoul_sgg_stat.xlsx', thousands=',')\n",
    "seoul_sgg"
   ]
  },
  {
   "cell_type": "code",
   "execution_count": null,
   "metadata": {},
   "outputs": [],
   "source": [
    "seoul_sgg = pd.merge(seoul_sgg, starbucks_count, how='left', on='시군구명')\n",
    "seoul_sgg"
   ]
  },
  {
   "cell_type": "code",
   "execution_count": null,
   "metadata": {},
   "outputs": [],
   "source": [
    "# 주민등록인구 십만명당 매장수\n",
    "\n",
    "seoul_sgg['거주자_십만명당_매장수'] = seoul_sgg['매장수'] / (seoul_sgg['주민등록인구']/100000)"
   ]
  },
  {
   "cell_type": "code",
   "execution_count": null,
   "metadata": {},
   "outputs": [],
   "source": []
  }
 ],
 "metadata": {
  "kernelspec": {
   "display_name": "base",
   "language": "python",
   "name": "python3"
  },
  "language_info": {
   "codemirror_mode": {
    "name": "ipython",
    "version": 3
   },
   "file_extension": ".py",
   "mimetype": "text/x-python",
   "name": "python",
   "nbconvert_exporter": "python",
   "pygments_lexer": "ipython3",
   "version": "3.9.13"
  },
  "orig_nbformat": 4
 },
 "nbformat": 4,
 "nbformat_minor": 2
}
