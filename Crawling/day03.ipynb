{
 "cells": [
  {
   "cell_type": "code",
   "execution_count": 7,
   "metadata": {},
   "outputs": [],
   "source": [
    "import requests # 웹 페이지 읽어오기\n",
    "from bs4 import BeautifulSoup as bs # 페이지 정제\n",
    "\n",
    "url='https://finance.naver.com/item/main.naver?code=005930'\n",
    "\n",
    "txt = requests.get(url)\n",
    "html = bs(txt.text)"
   ]
  },
  {
   "cell_type": "code",
   "execution_count": 3,
   "metadata": {},
   "outputs": [
    {
     "data": {
      "text/plain": [
       "6"
      ]
     },
     "execution_count": 3,
     "metadata": {},
     "output_type": "execute_result"
    }
   ],
   "source": [
    "len(html.select('em.no_up'))"
   ]
  },
  {
   "cell_type": "code",
   "execution_count": 4,
   "metadata": {},
   "outputs": [
    {
     "data": {
      "text/plain": [
       "[<em class=\"no_up\">\n",
       " <span class=\"blind\">61,400</span>\n",
       " <span class=\"no6\">6</span><span class=\"no1\">1</span><span class=\"shim\">,</span><span class=\"no4\">4</span><span class=\"no0\">0</span><span class=\"no0\">0</span>\n",
       " </em>,\n",
       " <em class=\"no_up\">\n",
       " <span class=\"ico up\">상승</span>\n",
       " <span class=\"blind\">800</span>\n",
       " <span class=\"no8\">8</span><span class=\"no0\">0</span><span class=\"no0\">0</span>\n",
       " </em>,\n",
       " <em class=\"no_up\">\n",
       " <span class=\"ico plus\">+</span>\n",
       " <span class=\"blind\">1.32</span>\n",
       " <span class=\"no1\">1</span><span class=\"jum\">.</span><span class=\"no3\">3</span><span class=\"no2\">2</span>\n",
       " <span class=\"per\">%</span>\n",
       " </em>,\n",
       " <em class=\"no_up\">\n",
       " <span class=\"blind\">61,500</span><span class=\"no6\">6</span><span class=\"no1\">1</span><span class=\"shim\">,</span><span class=\"no5\">5</span><span class=\"no0\">0</span><span class=\"no0\">0</span>\n",
       " </em>,\n",
       " <em class=\"no_up\">\n",
       " <span class=\"blind\">60,900</span><span class=\"no6\">6</span><span class=\"no0\">0</span><span class=\"shim\">,</span><span class=\"no9\">9</span><span class=\"no0\">0</span><span class=\"no0\">0</span>\n",
       " </em>,\n",
       " <em class=\"no_up\">\n",
       " <span class=\"blind\">60,800</span><span class=\"no6\">6</span><span class=\"no0\">0</span><span class=\"shim\">,</span><span class=\"no8\">8</span><span class=\"no0\">0</span><span class=\"no0\">0</span>\n",
       " </em>]"
      ]
     },
     "execution_count": 4,
     "metadata": {},
     "output_type": "execute_result"
    }
   ],
   "source": [
    "html.select('em.no_up')"
   ]
  },
  {
   "cell_type": "code",
   "execution_count": 5,
   "metadata": {},
   "outputs": [
    {
     "data": {
      "text/plain": [
       "'\\n61,400\\n61,400\\n'"
      ]
     },
     "execution_count": 5,
     "metadata": {},
     "output_type": "execute_result"
    }
   ],
   "source": [
    "html.select('em.no_up')[0].text"
   ]
  },
  {
   "cell_type": "code",
   "execution_count": 6,
   "metadata": {},
   "outputs": [
    {
     "data": {
      "text/plain": [
       "'61,400'"
      ]
     },
     "execution_count": 6,
     "metadata": {},
     "output_type": "execute_result"
    }
   ],
   "source": [
    "html.select('em.no_up > span.blind')[0].text"
   ]
  },
  {
   "cell_type": "code",
   "execution_count": 8,
   "metadata": {},
   "outputs": [
    {
     "data": {
      "text/plain": [
       "'61,600'"
      ]
     },
     "execution_count": 8,
     "metadata": {},
     "output_type": "execute_result"
    }
   ],
   "source": [
    "import requests # 웹 페이지 읽어오기\n",
    "from bs4 import BeautifulSoup as bs\n",
    "\n",
    "url='https://finance.naver.com/item/main.naver?code=005930'\n",
    "\n",
    "txt = requests.get(url)\n",
    "html = bs(txt.text)\n",
    "\n",
    "html.select('em.no_up > span.blind')[0].text"
   ]
  },
  {
   "cell_type": "code",
   "execution_count": 11,
   "metadata": {},
   "outputs": [
    {
     "data": {
      "text/html": [
       "<div>\n",
       "<style scoped>\n",
       "    .dataframe tbody tr th:only-of-type {\n",
       "        vertical-align: middle;\n",
       "    }\n",
       "\n",
       "    .dataframe tbody tr th {\n",
       "        vertical-align: top;\n",
       "    }\n",
       "\n",
       "    .dataframe thead th {\n",
       "        text-align: right;\n",
       "    }\n",
       "</style>\n",
       "<table border=\"1\" class=\"dataframe\">\n",
       "  <thead>\n",
       "    <tr style=\"text-align: right;\">\n",
       "      <th></th>\n",
       "      <th>시가</th>\n",
       "      <th>고가</th>\n",
       "      <th>저가</th>\n",
       "      <th>종가</th>\n",
       "      <th>거래량</th>\n",
       "      <th>거래대금</th>\n",
       "      <th>등락률</th>\n",
       "    </tr>\n",
       "    <tr>\n",
       "      <th>날짜</th>\n",
       "      <th></th>\n",
       "      <th></th>\n",
       "      <th></th>\n",
       "      <th></th>\n",
       "      <th></th>\n",
       "      <th></th>\n",
       "      <th></th>\n",
       "    </tr>\n",
       "  </thead>\n",
       "  <tbody>\n",
       "    <tr>\n",
       "      <th>2023-02-01</th>\n",
       "      <td>62600</td>\n",
       "      <td>62700</td>\n",
       "      <td>61000</td>\n",
       "      <td>61800</td>\n",
       "      <td>18570133</td>\n",
       "      <td>1145781815984</td>\n",
       "      <td>1.31</td>\n",
       "    </tr>\n",
       "    <tr>\n",
       "      <th>2023-02-02</th>\n",
       "      <td>63200</td>\n",
       "      <td>63900</td>\n",
       "      <td>62600</td>\n",
       "      <td>63500</td>\n",
       "      <td>23285983</td>\n",
       "      <td>1474629229812</td>\n",
       "      <td>2.75</td>\n",
       "    </tr>\n",
       "    <tr>\n",
       "      <th>2023-02-03</th>\n",
       "      <td>63900</td>\n",
       "      <td>64000</td>\n",
       "      <td>63000</td>\n",
       "      <td>63800</td>\n",
       "      <td>15194598</td>\n",
       "      <td>967336146677</td>\n",
       "      <td>0.47</td>\n",
       "    </tr>\n",
       "    <tr>\n",
       "      <th>2023-02-06</th>\n",
       "      <td>62800</td>\n",
       "      <td>63000</td>\n",
       "      <td>61600</td>\n",
       "      <td>61600</td>\n",
       "      <td>15529356</td>\n",
       "      <td>967890468300</td>\n",
       "      <td>-3.45</td>\n",
       "    </tr>\n",
       "    <tr>\n",
       "      <th>2023-02-07</th>\n",
       "      <td>61900</td>\n",
       "      <td>62500</td>\n",
       "      <td>61600</td>\n",
       "      <td>61900</td>\n",
       "      <td>14491039</td>\n",
       "      <td>898617000700</td>\n",
       "      <td>0.49</td>\n",
       "    </tr>\n",
       "    <tr>\n",
       "      <th>2023-02-08</th>\n",
       "      <td>62800</td>\n",
       "      <td>63300</td>\n",
       "      <td>62400</td>\n",
       "      <td>63100</td>\n",
       "      <td>12243125</td>\n",
       "      <td>770472521000</td>\n",
       "      <td>1.94</td>\n",
       "    </tr>\n",
       "    <tr>\n",
       "      <th>2023-02-09</th>\n",
       "      <td>63000</td>\n",
       "      <td>63300</td>\n",
       "      <td>62300</td>\n",
       "      <td>63000</td>\n",
       "      <td>12164865</td>\n",
       "      <td>764921355400</td>\n",
       "      <td>-0.16</td>\n",
       "    </tr>\n",
       "    <tr>\n",
       "      <th>2023-02-10</th>\n",
       "      <td>62600</td>\n",
       "      <td>63000</td>\n",
       "      <td>62400</td>\n",
       "      <td>62800</td>\n",
       "      <td>9382576</td>\n",
       "      <td>587897501100</td>\n",
       "      <td>-0.32</td>\n",
       "    </tr>\n",
       "    <tr>\n",
       "      <th>2023-02-13</th>\n",
       "      <td>62900</td>\n",
       "      <td>63000</td>\n",
       "      <td>62300</td>\n",
       "      <td>62900</td>\n",
       "      <td>10730362</td>\n",
       "      <td>672253190500</td>\n",
       "      <td>0.16</td>\n",
       "    </tr>\n",
       "    <tr>\n",
       "      <th>2023-02-14</th>\n",
       "      <td>63600</td>\n",
       "      <td>63900</td>\n",
       "      <td>63200</td>\n",
       "      <td>63200</td>\n",
       "      <td>9126664</td>\n",
       "      <td>579858006300</td>\n",
       "      <td>0.48</td>\n",
       "    </tr>\n",
       "    <tr>\n",
       "      <th>2023-02-15</th>\n",
       "      <td>63900</td>\n",
       "      <td>63900</td>\n",
       "      <td>62000</td>\n",
       "      <td>62200</td>\n",
       "      <td>13208103</td>\n",
       "      <td>826031235400</td>\n",
       "      <td>-1.58</td>\n",
       "    </tr>\n",
       "    <tr>\n",
       "      <th>2023-02-16</th>\n",
       "      <td>62500</td>\n",
       "      <td>63700</td>\n",
       "      <td>62400</td>\n",
       "      <td>63700</td>\n",
       "      <td>13798831</td>\n",
       "      <td>873759607962</td>\n",
       "      <td>2.41</td>\n",
       "    </tr>\n",
       "    <tr>\n",
       "      <th>2023-02-17</th>\n",
       "      <td>62900</td>\n",
       "      <td>63300</td>\n",
       "      <td>62400</td>\n",
       "      <td>62600</td>\n",
       "      <td>10791265</td>\n",
       "      <td>677809979471</td>\n",
       "      <td>-1.73</td>\n",
       "    </tr>\n",
       "    <tr>\n",
       "      <th>2023-02-20</th>\n",
       "      <td>62900</td>\n",
       "      <td>63000</td>\n",
       "      <td>61800</td>\n",
       "      <td>62700</td>\n",
       "      <td>12908073</td>\n",
       "      <td>806198780800</td>\n",
       "      <td>0.16</td>\n",
       "    </tr>\n",
       "    <tr>\n",
       "      <th>2023-02-21</th>\n",
       "      <td>62700</td>\n",
       "      <td>62800</td>\n",
       "      <td>62000</td>\n",
       "      <td>62100</td>\n",
       "      <td>7665046</td>\n",
       "      <td>476711896776</td>\n",
       "      <td>-0.96</td>\n",
       "    </tr>\n",
       "    <tr>\n",
       "      <th>2023-02-22</th>\n",
       "      <td>61500</td>\n",
       "      <td>61800</td>\n",
       "      <td>61000</td>\n",
       "      <td>61100</td>\n",
       "      <td>11959088</td>\n",
       "      <td>732238903100</td>\n",
       "      <td>-1.61</td>\n",
       "    </tr>\n",
       "    <tr>\n",
       "      <th>2023-02-23</th>\n",
       "      <td>61700</td>\n",
       "      <td>62500</td>\n",
       "      <td>61500</td>\n",
       "      <td>62000</td>\n",
       "      <td>13047099</td>\n",
       "      <td>809465376980</td>\n",
       "      <td>1.47</td>\n",
       "    </tr>\n",
       "    <tr>\n",
       "      <th>2023-02-24</th>\n",
       "      <td>62300</td>\n",
       "      <td>62600</td>\n",
       "      <td>61300</td>\n",
       "      <td>61300</td>\n",
       "      <td>10308143</td>\n",
       "      <td>638634052687</td>\n",
       "      <td>-1.13</td>\n",
       "    </tr>\n",
       "    <tr>\n",
       "      <th>2023-02-27</th>\n",
       "      <td>60800</td>\n",
       "      <td>60800</td>\n",
       "      <td>60200</td>\n",
       "      <td>60500</td>\n",
       "      <td>11155697</td>\n",
       "      <td>674292520900</td>\n",
       "      <td>-1.31</td>\n",
       "    </tr>\n",
       "    <tr>\n",
       "      <th>2023-02-28</th>\n",
       "      <td>60800</td>\n",
       "      <td>61400</td>\n",
       "      <td>60500</td>\n",
       "      <td>60600</td>\n",
       "      <td>13715861</td>\n",
       "      <td>834902635220</td>\n",
       "      <td>0.17</td>\n",
       "    </tr>\n",
       "  </tbody>\n",
       "</table>\n",
       "</div>"
      ],
      "text/plain": [
       "               시가     고가     저가     종가       거래량           거래대금   등락률\n",
       "날짜                                                                   \n",
       "2023-02-01  62600  62700  61000  61800  18570133  1145781815984  1.31\n",
       "2023-02-02  63200  63900  62600  63500  23285983  1474629229812  2.75\n",
       "2023-02-03  63900  64000  63000  63800  15194598   967336146677  0.47\n",
       "2023-02-06  62800  63000  61600  61600  15529356   967890468300 -3.45\n",
       "2023-02-07  61900  62500  61600  61900  14491039   898617000700  0.49\n",
       "2023-02-08  62800  63300  62400  63100  12243125   770472521000  1.94\n",
       "2023-02-09  63000  63300  62300  63000  12164865   764921355400 -0.16\n",
       "2023-02-10  62600  63000  62400  62800   9382576   587897501100 -0.32\n",
       "2023-02-13  62900  63000  62300  62900  10730362   672253190500  0.16\n",
       "2023-02-14  63600  63900  63200  63200   9126664   579858006300  0.48\n",
       "2023-02-15  63900  63900  62000  62200  13208103   826031235400 -1.58\n",
       "2023-02-16  62500  63700  62400  63700  13798831   873759607962  2.41\n",
       "2023-02-17  62900  63300  62400  62600  10791265   677809979471 -1.73\n",
       "2023-02-20  62900  63000  61800  62700  12908073   806198780800  0.16\n",
       "2023-02-21  62700  62800  62000  62100   7665046   476711896776 -0.96\n",
       "2023-02-22  61500  61800  61000  61100  11959088   732238903100 -1.61\n",
       "2023-02-23  61700  62500  61500  62000  13047099   809465376980  1.47\n",
       "2023-02-24  62300  62600  61300  61300  10308143   638634052687 -1.13\n",
       "2023-02-27  60800  60800  60200  60500  11155697   674292520900 -1.31\n",
       "2023-02-28  60800  61400  60500  60600  13715861   834902635220  0.17"
      ]
     },
     "execution_count": 11,
     "metadata": {},
     "output_type": "execute_result"
    }
   ],
   "source": [
    "# !pip install pykrx  # 주가 조회 모듈\n",
    "\n",
    "from pykrx import stock\n",
    "stock.get_market_ohlcv('20230201', '20230228', '005930')"
   ]
  },
  {
   "cell_type": "code",
   "execution_count": 13,
   "metadata": {},
   "outputs": [
    {
     "name": "stdout",
     "output_type": "stream",
     "text": [
      "[*********************100%***********************]  1 of 1 completed\n"
     ]
    },
    {
     "data": {
      "text/html": [
       "<div>\n",
       "<style scoped>\n",
       "    .dataframe tbody tr th:only-of-type {\n",
       "        vertical-align: middle;\n",
       "    }\n",
       "\n",
       "    .dataframe tbody tr th {\n",
       "        vertical-align: top;\n",
       "    }\n",
       "\n",
       "    .dataframe thead th {\n",
       "        text-align: right;\n",
       "    }\n",
       "</style>\n",
       "<table border=\"1\" class=\"dataframe\">\n",
       "  <thead>\n",
       "    <tr style=\"text-align: right;\">\n",
       "      <th></th>\n",
       "      <th>Open</th>\n",
       "      <th>High</th>\n",
       "      <th>Low</th>\n",
       "      <th>Close</th>\n",
       "      <th>Adj Close</th>\n",
       "      <th>Volume</th>\n",
       "    </tr>\n",
       "    <tr>\n",
       "      <th>Date</th>\n",
       "      <th></th>\n",
       "      <th></th>\n",
       "      <th></th>\n",
       "      <th></th>\n",
       "      <th></th>\n",
       "      <th></th>\n",
       "    </tr>\n",
       "  </thead>\n",
       "  <tbody>\n",
       "    <tr>\n",
       "      <th>2023-02-28</th>\n",
       "      <td>147.050003</td>\n",
       "      <td>149.080002</td>\n",
       "      <td>146.830002</td>\n",
       "      <td>147.410004</td>\n",
       "      <td>147.410004</td>\n",
       "      <td>50547000</td>\n",
       "    </tr>\n",
       "    <tr>\n",
       "      <th>2023-03-01</th>\n",
       "      <td>146.830002</td>\n",
       "      <td>147.228500</td>\n",
       "      <td>145.009995</td>\n",
       "      <td>145.309998</td>\n",
       "      <td>145.309998</td>\n",
       "      <td>51688609</td>\n",
       "    </tr>\n",
       "  </tbody>\n",
       "</table>\n",
       "</div>"
      ],
      "text/plain": [
       "                  Open        High         Low       Close   Adj Close  \\\n",
       "Date                                                                     \n",
       "2023-02-28  147.050003  149.080002  146.830002  147.410004  147.410004   \n",
       "2023-03-01  146.830002  147.228500  145.009995  145.309998  145.309998   \n",
       "\n",
       "              Volume  \n",
       "Date                  \n",
       "2023-02-28  50547000  \n",
       "2023-03-01  51688609  "
      ]
     },
     "execution_count": 13,
     "metadata": {},
     "output_type": "execute_result"
    }
   ],
   "source": [
    "# !pip install yfinance\n",
    "\n",
    "import yfinance as yf\n",
    "yf.download('AAPL', start='2023-02-28')"
   ]
  },
  {
   "cell_type": "code",
   "execution_count": 14,
   "metadata": {},
   "outputs": [
    {
     "name": "stdout",
     "output_type": "stream",
     "text": [
      "[*********************100%***********************]  1 of 1 completed\n"
     ]
    },
    {
     "data": {
      "text/html": [
       "<div>\n",
       "<style scoped>\n",
       "    .dataframe tbody tr th:only-of-type {\n",
       "        vertical-align: middle;\n",
       "    }\n",
       "\n",
       "    .dataframe tbody tr th {\n",
       "        vertical-align: top;\n",
       "    }\n",
       "\n",
       "    .dataframe thead th {\n",
       "        text-align: right;\n",
       "    }\n",
       "</style>\n",
       "<table border=\"1\" class=\"dataframe\">\n",
       "  <thead>\n",
       "    <tr style=\"text-align: right;\">\n",
       "      <th></th>\n",
       "      <th>Open</th>\n",
       "      <th>High</th>\n",
       "      <th>Low</th>\n",
       "      <th>Close</th>\n",
       "      <th>Adj Close</th>\n",
       "      <th>Volume</th>\n",
       "    </tr>\n",
       "    <tr>\n",
       "      <th>Date</th>\n",
       "      <th></th>\n",
       "      <th></th>\n",
       "      <th></th>\n",
       "      <th></th>\n",
       "      <th></th>\n",
       "      <th></th>\n",
       "    </tr>\n",
       "  </thead>\n",
       "  <tbody>\n",
       "    <tr>\n",
       "      <th>2023-02-28</th>\n",
       "      <td>210.589996</td>\n",
       "      <td>211.229996</td>\n",
       "      <td>203.750000</td>\n",
       "      <td>205.710007</td>\n",
       "      <td>205.710007</td>\n",
       "      <td>153144900</td>\n",
       "    </tr>\n",
       "    <tr>\n",
       "      <th>2023-03-01</th>\n",
       "      <td>206.210007</td>\n",
       "      <td>207.198700</td>\n",
       "      <td>198.520401</td>\n",
       "      <td>202.770004</td>\n",
       "      <td>202.770004</td>\n",
       "      <td>147701973</td>\n",
       "    </tr>\n",
       "  </tbody>\n",
       "</table>\n",
       "</div>"
      ],
      "text/plain": [
       "                  Open        High         Low       Close   Adj Close  \\\n",
       "Date                                                                     \n",
       "2023-02-28  210.589996  211.229996  203.750000  205.710007  205.710007   \n",
       "2023-03-01  206.210007  207.198700  198.520401  202.770004  202.770004   \n",
       "\n",
       "               Volume  \n",
       "Date                   \n",
       "2023-02-28  153144900  \n",
       "2023-03-01  147701973  "
      ]
     },
     "execution_count": 14,
     "metadata": {},
     "output_type": "execute_result"
    }
   ],
   "source": [
    "\n",
    "yf.download('TSLA', start='2023-02-28')"
   ]
  },
  {
   "cell_type": "code",
   "execution_count": null,
   "metadata": {},
   "outputs": [],
   "source": [
    "import requests\n",
    "\n",
    "url = \"https://api.bithumb.com/public/ticker/ALL_KRW\"\n",
    "\n",
    "headers = {\"accept\": \"application/json\"}\n",
    "\n",
    "response = requests.get(url, headers=headers)\n",
    "\n",
    "print(response.text)"
   ]
  },
  {
   "cell_type": "code",
   "execution_count": 18,
   "metadata": {},
   "outputs": [
    {
     "name": "stderr",
     "output_type": "stream",
     "text": [
      "C:\\Users\\JUNG SO YOUNG\\AppData\\Local\\Temp\\ipykernel_5732\\1106659161.py:8: DeprecationWarning: executable_path has been deprecated, please pass in a Service object\n",
      "  driver = webdriver.Chrome('chromedriver.exe')\n"
     ]
    }
   ],
   "source": [
    "# import requests # 빗썸은 requests를 거부\n",
    "from selenium import webdriver\n",
    "import time\n",
    "from bs4 import BeautifulSoup as bs # 페이지 정제\n",
    "\n",
    "url = \"https://www.bithumb.com/trade/order/BTC_KRW\"\n",
    "\n",
    "driver = webdriver.Chrome('chromedriver.exe')\n",
    "\n",
    "driver.get(url)\n",
    "\n",
    "txt = driver.page_source\n",
    "html = bs(txt)  # 문법 주의\n",
    "\n"
   ]
  },
  {
   "cell_type": "code",
   "execution_count": 19,
   "metadata": {},
   "outputs": [
    {
     "data": {
      "text/plain": [
       "[<h3 class=\"color_blue\">31,116,000</h3>]"
      ]
     },
     "execution_count": 19,
     "metadata": {},
     "output_type": "execute_result"
    }
   ],
   "source": [
    "html.select('h3.color_blue')"
   ]
  },
  {
   "cell_type": "code",
   "execution_count": 20,
   "metadata": {},
   "outputs": [
    {
     "data": {
      "text/plain": [
       "'31,116,000'"
      ]
     },
     "execution_count": 20,
     "metadata": {},
     "output_type": "execute_result"
    }
   ],
   "source": [
    "html.select('h3.color_blue')[0].text"
   ]
  },
  {
   "cell_type": "code",
   "execution_count": 21,
   "metadata": {},
   "outputs": [
    {
     "name": "stderr",
     "output_type": "stream",
     "text": [
      "C:\\Users\\JUNG SO YOUNG\\AppData\\Local\\Temp\\ipykernel_5732\\2961864957.py:8: DeprecationWarning: executable_path has been deprecated, please pass in a Service object\n",
      "  driver = webdriver.Chrome('chromedriver.exe')\n"
     ]
    },
    {
     "data": {
      "text/plain": [
       "'31,126,000'"
      ]
     },
     "execution_count": 21,
     "metadata": {},
     "output_type": "execute_result"
    }
   ],
   "source": [
    "# import requests # 빗썸은 requests를 거부\n",
    "from selenium import webdriver\n",
    "import time\n",
    "from bs4 import BeautifulSoup as bs # 페이지 정제\n",
    "\n",
    "url = \"https://www.bithumb.com/trade/order/BTC_KRW\"\n",
    "\n",
    "driver = webdriver.Chrome('chromedriver.exe')\n",
    "\n",
    "driver.get(url)\n",
    "\n",
    "txt = driver.page_source\n",
    "html = bs(txt)  # 문법 주의\n",
    "\n",
    "html.select('h3.color_blue')[0].text"
   ]
  },
  {
   "cell_type": "code",
   "execution_count": null,
   "metadata": {},
   "outputs": [],
   "source": [
    "############################################\n",
    "#                 Bithmb API               #\n",
    "############################################\n",
    "\n",
    "# !pip install pybithumb\n",
    "\n",
    "# 빗썸에서 제공하는 API 설치 (최초 한 번만 설치)"
   ]
  },
  {
   "cell_type": "code",
   "execution_count": 23,
   "metadata": {},
   "outputs": [
    {
     "name": "stdout",
     "output_type": "stream",
     "text": [
      "['BTC', 'ETH', 'ETC', 'XRP', 'BCH', 'QTUM', 'BTG', 'EOS', 'ICX', 'TRX', 'ELF', 'OMG', 'KNC', 'GLM', 'ZIL', 'WAXP', 'POWR', 'LRC', 'STEEM', 'STRAX', 'ZRX', 'REP', 'SNT', 'ADA', 'CTXC', 'BAT', 'THETA', 'LOOM', 'WAVES', 'LINK', 'ENJ', 'VET', 'MTL', 'IOST', 'QKC', 'ATOLO', 'AMO', 'BSV', 'ORBS', 'TFUEL', 'VALOR', 'CON', 'ANKR', 'MIX', 'CRO', 'FX', 'CHR', 'MBL', 'MXC', 'FCT2', 'TRV', 'WOM', 'SOC', 'BOA', 'MEV', 'SXP', 'COS', 'EL', 'BASIC', 'HIVE', 'XPR', 'VRA', 'FIT', 'EGG', 'BORA', 'ARPA', 'CTC', 'APM', 'CKB', 'AERGO', 'CENNZ', 'EVZ', 'SRM', 'QTCON', 'UNI', 'YFI', 'UMA', 'AAVE', 'COMP', 'REN', 'BAL', 'RSR', 'NMR', 'RLC', 'UOS', 'SAND', 'GOM2', 'BEL', 'OBSR', 'ORC', 'POLA', 'ADP', 'DVI', 'GHX', 'MVC', 'BLY', 'WOZX', 'ANV', 'GRT', 'BIOT', 'XNO', 'SNX', 'SOFI', 'COLA', 'OXT', 'LINA', 'MAP', 'AQT', 'PLA', 'WIKEN', 'CTSI', 'MANA', 'LPT', 'MKR', 'SUSHI', 'ASM', 'PUNDIX', 'CELR', 'ARW', 'FRONT', 'RLY', 'OCEAN', 'BFC', 'ALICE', 'OGN', 'COTI', 'CAKE', 'BNT', 'XVS', 'SWAP', 'CHZ', 'AXS', 'DAO', 'SIX', 'DAI', 'SHIB', 'MATIC', 'WOO', 'ACH', 'VELO', 'XLM', 'WICC', 'ONT', 'META', 'KLAY', 'ONG', 'ALGO', 'JST', 'XTZ', 'MLK', 'DOT', 'ATOM', 'SSX', 'TEMCO', 'HIBS', 'DOGE', 'KSM', 'CTK', 'XYM', 'BNB', 'NFT', 'SUN', 'XEC', 'PCI', 'SOL', 'LN', 'EGLD', 'GO', 'DFA', 'C98', 'MED', '1INCH', 'BOBA', 'GALA', 'BTT', 'EFI', 'JASMY', 'TITAN', 'REQ', 'CSPR', 'AVAX', 'TDROP', 'NPT', 'REI', 'T', 'MBX', 'GMT', 'TAVA', 'DAR', 'ALT', 'XCN', 'GXA', 'AZIT', 'FLR', 'SFP', 'FITFI', 'STAT', 'CRTS', 'VIX', 'LBL', 'LM', 'BLUR']\n",
      "202\n"
     ]
    }
   ],
   "source": [
    "import pybithumb as pb\n",
    "\n",
    "print(pb.get_tickers())\n",
    "# tickers 는 빗썸에서 거래 가능한 종목명을 출력\n",
    "\n",
    "print(len(pb.get_tickers()))"
   ]
  },
  {
   "cell_type": "code",
   "execution_count": 24,
   "metadata": {},
   "outputs": [
    {
     "name": "stdout",
     "output_type": "stream",
     "text": [
      "31086000.0\n"
     ]
    }
   ],
   "source": [
    "# 비트 코인 가격 조회\n",
    "\n",
    "print(pb.get_current_price(\"BTC\"))"
   ]
  },
  {
   "cell_type": "code",
   "execution_count": 25,
   "metadata": {},
   "outputs": [
    {
     "name": "stdout",
     "output_type": "stream",
     "text": [
      "31063000.0\n",
      "31056000.0\n",
      "31071000.0\n"
     ]
    },
    {
     "ename": "KeyboardInterrupt",
     "evalue": "",
     "output_type": "error",
     "traceback": [
      "\u001b[1;31m---------------------------------------------------------------------------\u001b[0m",
      "\u001b[1;31mKeyboardInterrupt\u001b[0m                         Traceback (most recent call last)",
      "\u001b[1;32m~\\AppData\\Local\\Temp\\ipykernel_5732\\1476136384.py\u001b[0m in \u001b[0;36m<module>\u001b[1;34m\u001b[0m\n\u001b[0;32m      3\u001b[0m \u001b[1;32mwhile\u001b[0m \u001b[1;32mTrue\u001b[0m\u001b[1;33m:\u001b[0m\u001b[1;33m\u001b[0m\u001b[1;33m\u001b[0m\u001b[0m\n\u001b[0;32m      4\u001b[0m     \u001b[0mprint\u001b[0m\u001b[1;33m(\u001b[0m\u001b[0mpb\u001b[0m\u001b[1;33m.\u001b[0m\u001b[0mget_current_price\u001b[0m\u001b[1;33m(\u001b[0m\u001b[1;34m\"BTC\"\u001b[0m\u001b[1;33m)\u001b[0m\u001b[1;33m)\u001b[0m\u001b[1;33m\u001b[0m\u001b[1;33m\u001b[0m\u001b[0m\n\u001b[1;32m----> 5\u001b[1;33m     \u001b[0mtime\u001b[0m\u001b[1;33m.\u001b[0m\u001b[0msleep\u001b[0m\u001b[1;33m(\u001b[0m\u001b[1;36m3\u001b[0m\u001b[1;33m)\u001b[0m\u001b[1;33m\u001b[0m\u001b[1;33m\u001b[0m\u001b[0m\n\u001b[0m",
      "\u001b[1;31mKeyboardInterrupt\u001b[0m: "
     ]
    }
   ],
   "source": [
    "# 비트 코인 가격 반복 조회\n",
    "\n",
    "while True:\n",
    "    print(pb.get_current_price(\"BTC\"))\n",
    "    time.sleep(3)"
   ]
  },
  {
   "cell_type": "code",
   "execution_count": 26,
   "metadata": {},
   "outputs": [
    {
     "name": "stdout",
     "output_type": "stream",
     "text": [
      "BTC 31089000.0\n",
      "ETH 2182000.0\n",
      "ETC 27900.0\n",
      "XRP 502.0\n",
      "BCH 176400.0\n",
      "QTUM 4422.0\n",
      "BTG 22440.0\n",
      "EOS 1573.0\n"
     ]
    },
    {
     "ename": "KeyboardInterrupt",
     "evalue": "",
     "output_type": "error",
     "traceback": [
      "\u001b[1;31m---------------------------------------------------------------------------\u001b[0m",
      "\u001b[1;31mKeyboardInterrupt\u001b[0m                         Traceback (most recent call last)",
      "\u001b[1;32m~\\AppData\\Local\\Temp\\ipykernel_5732\\4133750363.py\u001b[0m in \u001b[0;36m<module>\u001b[1;34m\u001b[0m\n\u001b[0;32m      5\u001b[0m \u001b[1;32mfor\u001b[0m \u001b[0mticker\u001b[0m \u001b[1;32min\u001b[0m \u001b[0mtickers\u001b[0m\u001b[1;33m:\u001b[0m\u001b[1;33m\u001b[0m\u001b[1;33m\u001b[0m\u001b[0m\n\u001b[0;32m      6\u001b[0m     \u001b[0mprint\u001b[0m\u001b[1;33m(\u001b[0m\u001b[0mticker\u001b[0m\u001b[1;33m,\u001b[0m \u001b[0mpb\u001b[0m\u001b[1;33m.\u001b[0m\u001b[0mget_current_price\u001b[0m\u001b[1;33m(\u001b[0m\u001b[0mticker\u001b[0m\u001b[1;33m)\u001b[0m\u001b[1;33m)\u001b[0m\u001b[1;33m\u001b[0m\u001b[1;33m\u001b[0m\u001b[0m\n\u001b[1;32m----> 7\u001b[1;33m     \u001b[0mtime\u001b[0m\u001b[1;33m.\u001b[0m\u001b[0msleep\u001b[0m\u001b[1;33m(\u001b[0m\u001b[1;36m1\u001b[0m\u001b[1;33m)\u001b[0m\u001b[1;33m\u001b[0m\u001b[1;33m\u001b[0m\u001b[0m\n\u001b[0m",
      "\u001b[1;31mKeyboardInterrupt\u001b[0m: "
     ]
    }
   ],
   "source": [
    "# 모든 코인 가격 조회\n",
    "\n",
    "tickers = pb.get_tickers()\n",
    "\n",
    "for ticker in tickers:\n",
    "    print(ticker, pb.get_current_price(ticker))\n",
    "    time.sleep(1)"
   ]
  },
  {
   "cell_type": "code",
   "execution_count": 27,
   "metadata": {},
   "outputs": [
    {
     "name": "stdout",
     "output_type": "stream",
     "text": [
      "(31180000.0, 31272000.0, 30937000.0, 31104000.0, 213.72198343)\n"
     ]
    }
   ],
   "source": [
    "# 자세한 코인 가격 조회\n",
    "\n",
    "print(pb.get_market_detail(\"BTC\"))\n",
    "\n",
    "# 시가 / 고가 / 저가 / 종가(현재가) / 거래량\n",
    "# 튜플로 리턴한다."
   ]
  },
  {
   "cell_type": "code",
   "execution_count": 28,
   "metadata": {},
   "outputs": [
    {
     "name": "stdout",
     "output_type": "stream",
     "text": [
      "BTC (31180000.0, 31272000.0, 30937000.0, 31054000.0, 229.56008343)\n",
      "ETH (2180000.0, 2203000.0, 2169000.0, 2178000.0, 1889.36668367)\n",
      "ETC (27990.0, 28100.0, 27790.0, 27830.0, 19666.99615325)\n",
      "XRP (501.5, 506.9, 500.5, 501.5, 11087400.90135714)\n",
      "BCH (176900.0, 177400.0, 175500.0, 175600.0, 1153.42824352)\n",
      "QTUM (4433.0, 4463.0, 4377.0, 4385.0, 51691.49886297)\n"
     ]
    },
    {
     "ename": "KeyboardInterrupt",
     "evalue": "",
     "output_type": "error",
     "traceback": [
      "\u001b[1;31m---------------------------------------------------------------------------\u001b[0m",
      "\u001b[1;31mKeyboardInterrupt\u001b[0m                         Traceback (most recent call last)",
      "\u001b[1;32m~\\AppData\\Local\\Temp\\ipykernel_5732\\3378450651.py\u001b[0m in \u001b[0;36m<module>\u001b[1;34m\u001b[0m\n\u001b[0;32m      5\u001b[0m \u001b[1;32mfor\u001b[0m \u001b[0mticker\u001b[0m \u001b[1;32min\u001b[0m \u001b[0mtickers\u001b[0m\u001b[1;33m:\u001b[0m\u001b[1;33m\u001b[0m\u001b[1;33m\u001b[0m\u001b[0m\n\u001b[0;32m      6\u001b[0m     \u001b[0mprint\u001b[0m\u001b[1;33m(\u001b[0m\u001b[0mticker\u001b[0m\u001b[1;33m,\u001b[0m \u001b[0mpb\u001b[0m\u001b[1;33m.\u001b[0m\u001b[0mget_market_detail\u001b[0m\u001b[1;33m(\u001b[0m\u001b[0mticker\u001b[0m\u001b[1;33m)\u001b[0m\u001b[1;33m)\u001b[0m\u001b[1;33m\u001b[0m\u001b[1;33m\u001b[0m\u001b[0m\n\u001b[1;32m----> 7\u001b[1;33m     \u001b[0mtime\u001b[0m\u001b[1;33m.\u001b[0m\u001b[0msleep\u001b[0m\u001b[1;33m(\u001b[0m\u001b[1;36m1\u001b[0m\u001b[1;33m)\u001b[0m\u001b[1;33m\u001b[0m\u001b[1;33m\u001b[0m\u001b[0m\n\u001b[0m",
      "\u001b[1;31mKeyboardInterrupt\u001b[0m: "
     ]
    }
   ],
   "source": [
    "# 자세한 모든 코인 가격 조회\n",
    "\n",
    "tickers = pb.get_tickers()\n",
    "\n",
    "for ticker in tickers:\n",
    "    print(ticker, pb.get_market_detail(ticker))\n",
    "    time.sleep(1)"
   ]
  },
  {
   "cell_type": "code",
   "execution_count": 29,
   "metadata": {},
   "outputs": [
    {
     "name": "stdout",
     "output_type": "stream",
     "text": [
      "BTC (31180000.0, 31272000.0, 30937000.0, 31092000.0, 235.90398343)\n",
      "ETH (2180000.0, 2203000.0, 2169000.0, 2181000.0, 1917.26478367)\n",
      "ETC (27990.0, 28100.0, 27790.0, 27880.0, 20065.47505325)\n",
      "XRP (501.5, 506.9, 500.5, 501.9, 11331743.8376119)\n",
      "BCH (176900.0, 177400.0, 175500.0, 175600.0, 1153.42824352)\n",
      "QTUM (4433.0, 4463.0, 4377.0, 4404.0, 52232.70226297)\n",
      "BTG (22670.0, 22670.0, 22390.0, 22430.0, 2381.8312)\n",
      "EOS (1571.0, 1596.0, 1568.0, 1576.0, 361895.83732112)\n",
      "ICX (341.0, 350.3, 340.1, 340.8, 326817.63255761)\n",
      "TRX (91.97, 92.57, 91.76, 91.95, 5988447.89339)\n",
      "ELF (369.3, 372.1, 366.3, 368.3, 199218.4893)\n",
      "OMG (2250.0, 2283.0, 2249.0, 2250.0, 9455.8982)\n",
      "예외가 발생 되었습니다.\n"
     ]
    }
   ],
   "source": [
    "# 네트워크를 이용하는 경우에는 특히 에러 즉 예외가 발생할 경우가 상당히 많다.\n",
    "# 따라서 1) time.sleep()을 이용한 시간 지연\n",
    "#        2) try except 을 이용한 예외 처리가 중요하다.\n",
    "\n",
    "tickers = pb.get_tickers()\n",
    "\n",
    "try:\n",
    "    for ticker in tickers:\n",
    "        print(ticker, pb.get_market_detail(ticker))\n",
    "        time.sleep(1)\n",
    "except :\n",
    "    print(\"예외가 발생 되었습니다.\")        "
   ]
  },
  {
   "cell_type": "code",
   "execution_count": null,
   "metadata": {},
   "outputs": [],
   "source": [
    "# 상승 하락장 알람 프로그램\n",
    "\n",
    "# 이동평균선을 사용 : 이동평균 값 보다 현재가가 높다면 상승장\n",
    "# 이동평균 값 보다 현재가가 낮으면 하락장\n",
    "\n",
    "# 03/01 1000\n",
    "# 03/02 1100\n",
    "# 03/03 1200\n",
    "# 03/04 1100\n",
    "# 03/05 1000\n",
    "\n",
    "# 03/06 1400 상승장\n",
    "# 03/06 1000 하락장\n"
   ]
  },
  {
   "cell_type": "code",
   "execution_count": 30,
   "metadata": {},
   "outputs": [
    {
     "data": {
      "text/html": [
       "<div>\n",
       "<style scoped>\n",
       "    .dataframe tbody tr th:only-of-type {\n",
       "        vertical-align: middle;\n",
       "    }\n",
       "\n",
       "    .dataframe tbody tr th {\n",
       "        vertical-align: top;\n",
       "    }\n",
       "\n",
       "    .dataframe thead th {\n",
       "        text-align: right;\n",
       "    }\n",
       "</style>\n",
       "<table border=\"1\" class=\"dataframe\">\n",
       "  <thead>\n",
       "    <tr style=\"text-align: right;\">\n",
       "      <th></th>\n",
       "      <th>open</th>\n",
       "      <th>high</th>\n",
       "      <th>low</th>\n",
       "      <th>close</th>\n",
       "      <th>volume</th>\n",
       "    </tr>\n",
       "    <tr>\n",
       "      <th>time</th>\n",
       "      <th></th>\n",
       "      <th></th>\n",
       "      <th></th>\n",
       "      <th></th>\n",
       "      <th></th>\n",
       "    </tr>\n",
       "  </thead>\n",
       "  <tbody>\n",
       "    <tr>\n",
       "      <th>2013-12-27 00:00:00</th>\n",
       "      <td>737000.0</td>\n",
       "      <td>755000.0</td>\n",
       "      <td>737000.0</td>\n",
       "      <td>755000.0</td>\n",
       "      <td>3.780000</td>\n",
       "    </tr>\n",
       "    <tr>\n",
       "      <th>2013-12-28 00:00:00</th>\n",
       "      <td>750000.0</td>\n",
       "      <td>750000.0</td>\n",
       "      <td>750000.0</td>\n",
       "      <td>750000.0</td>\n",
       "      <td>12.000000</td>\n",
       "    </tr>\n",
       "    <tr>\n",
       "      <th>2013-12-29 00:00:00</th>\n",
       "      <td>750000.0</td>\n",
       "      <td>750000.0</td>\n",
       "      <td>728000.0</td>\n",
       "      <td>739000.0</td>\n",
       "      <td>19.058000</td>\n",
       "    </tr>\n",
       "    <tr>\n",
       "      <th>2013-12-30 00:00:00</th>\n",
       "      <td>740000.0</td>\n",
       "      <td>772000.0</td>\n",
       "      <td>740000.0</td>\n",
       "      <td>768000.0</td>\n",
       "      <td>9.488973</td>\n",
       "    </tr>\n",
       "    <tr>\n",
       "      <th>2013-12-31 00:00:00</th>\n",
       "      <td>768000.0</td>\n",
       "      <td>800000.0</td>\n",
       "      <td>763000.0</td>\n",
       "      <td>768000.0</td>\n",
       "      <td>18.650350</td>\n",
       "    </tr>\n",
       "    <tr>\n",
       "      <th>...</th>\n",
       "      <td>...</td>\n",
       "      <td>...</td>\n",
       "      <td>...</td>\n",
       "      <td>...</td>\n",
       "      <td>...</td>\n",
       "    </tr>\n",
       "    <tr>\n",
       "      <th>2023-02-26 00:00:00</th>\n",
       "      <td>30498000.0</td>\n",
       "      <td>31047000.0</td>\n",
       "      <td>30471000.0</td>\n",
       "      <td>30890000.0</td>\n",
       "      <td>838.625344</td>\n",
       "    </tr>\n",
       "    <tr>\n",
       "      <th>2023-02-27 00:00:00</th>\n",
       "      <td>30897000.0</td>\n",
       "      <td>31580000.0</td>\n",
       "      <td>30833000.0</td>\n",
       "      <td>31544000.0</td>\n",
       "      <td>1205.188234</td>\n",
       "    </tr>\n",
       "    <tr>\n",
       "      <th>2023-02-28 00:00:00</th>\n",
       "      <td>31539000.0</td>\n",
       "      <td>31632000.0</td>\n",
       "      <td>30838000.0</td>\n",
       "      <td>31081000.0</td>\n",
       "      <td>1126.423476</td>\n",
       "    </tr>\n",
       "    <tr>\n",
       "      <th>2023-03-01 00:00:00</th>\n",
       "      <td>31092000.0</td>\n",
       "      <td>31580000.0</td>\n",
       "      <td>30765000.0</td>\n",
       "      <td>31193000.0</td>\n",
       "      <td>1158.565146</td>\n",
       "    </tr>\n",
       "    <tr>\n",
       "      <th>2023-03-02 11:00:00</th>\n",
       "      <td>31180000.0</td>\n",
       "      <td>31272000.0</td>\n",
       "      <td>30937000.0</td>\n",
       "      <td>31106000.0</td>\n",
       "      <td>252.068034</td>\n",
       "    </tr>\n",
       "  </tbody>\n",
       "</table>\n",
       "<p>3263 rows × 5 columns</p>\n",
       "</div>"
      ],
      "text/plain": [
       "                           open        high         low       close  \\\n",
       "time                                                                  \n",
       "2013-12-27 00:00:00    737000.0    755000.0    737000.0    755000.0   \n",
       "2013-12-28 00:00:00    750000.0    750000.0    750000.0    750000.0   \n",
       "2013-12-29 00:00:00    750000.0    750000.0    728000.0    739000.0   \n",
       "2013-12-30 00:00:00    740000.0    772000.0    740000.0    768000.0   \n",
       "2013-12-31 00:00:00    768000.0    800000.0    763000.0    768000.0   \n",
       "...                         ...         ...         ...         ...   \n",
       "2023-02-26 00:00:00  30498000.0  31047000.0  30471000.0  30890000.0   \n",
       "2023-02-27 00:00:00  30897000.0  31580000.0  30833000.0  31544000.0   \n",
       "2023-02-28 00:00:00  31539000.0  31632000.0  30838000.0  31081000.0   \n",
       "2023-03-01 00:00:00  31092000.0  31580000.0  30765000.0  31193000.0   \n",
       "2023-03-02 11:00:00  31180000.0  31272000.0  30937000.0  31106000.0   \n",
       "\n",
       "                          volume  \n",
       "time                              \n",
       "2013-12-27 00:00:00     3.780000  \n",
       "2013-12-28 00:00:00    12.000000  \n",
       "2013-12-29 00:00:00    19.058000  \n",
       "2013-12-30 00:00:00     9.488973  \n",
       "2013-12-31 00:00:00    18.650350  \n",
       "...                          ...  \n",
       "2023-02-26 00:00:00   838.625344  \n",
       "2023-02-27 00:00:00  1205.188234  \n",
       "2023-02-28 00:00:00  1126.423476  \n",
       "2023-03-01 00:00:00  1158.565146  \n",
       "2023-03-02 11:00:00   252.068034  \n",
       "\n",
       "[3263 rows x 5 columns]"
      ]
     },
     "execution_count": 30,
     "metadata": {},
     "output_type": "execute_result"
    }
   ],
   "source": [
    "pb.get_ohlcv(\"BTC\")"
   ]
  },
  {
   "cell_type": "code",
   "execution_count": 31,
   "metadata": {},
   "outputs": [
    {
     "name": "stdout",
     "output_type": "stream",
     "text": [
      "time\n",
      "2013-12-27 00:00:00      755000.0\n",
      "2013-12-28 00:00:00      750000.0\n",
      "2013-12-29 00:00:00      739000.0\n",
      "2013-12-30 00:00:00      768000.0\n",
      "2013-12-31 00:00:00      768000.0\n",
      "                          ...    \n",
      "2023-02-26 00:00:00    30890000.0\n",
      "2023-02-27 00:00:00    31544000.0\n",
      "2023-02-28 00:00:00    31081000.0\n",
      "2023-03-01 00:00:00    31193000.0\n",
      "2023-03-02 11:00:00    31099000.0\n",
      "Name: close, Length: 3263, dtype: float64\n"
     ]
    }
   ],
   "source": [
    "# 받아온 데이터는 기본적으로 데이터프레임이다.\n",
    "# 데이터 프레임에서 한개의 열 즉 Series 이다.\n",
    "\n",
    "btc = pb.get_ohlcv(\"BTC\")\n",
    "close = btc['close']\n",
    "print(close)"
   ]
  },
  {
   "cell_type": "code",
   "execution_count": 32,
   "metadata": {},
   "outputs": [
    {
     "name": "stdout",
     "output_type": "stream",
     "text": [
      "756000.0\n",
      "760400.0\n",
      "766000.0\n"
     ]
    }
   ],
   "source": [
    "# 수동으로 이동평균 계산\n",
    "\n",
    "btc = pb.get_ohlcv(\"BTC\")\n",
    "close = btc['close']\n",
    "\n",
    "print((close[0] + close[1] + close[2] + close[3] + close[4]) / 5)\n",
    "print((close[1] + close[2] + close[3] + close[4] + close[5]) / 5)\n",
    "print((close[2] + close[3] + close[4] + close[5] + close[6]) / 5)"
   ]
  },
  {
   "cell_type": "code",
   "execution_count": 34,
   "metadata": {},
   "outputs": [
    {
     "name": "stdout",
     "output_type": "stream",
     "text": [
      "time\n",
      "2013-12-27 00:00:00           NaN\n",
      "2013-12-28 00:00:00           NaN\n",
      "2013-12-29 00:00:00           NaN\n",
      "2013-12-30 00:00:00           NaN\n",
      "2013-12-31 00:00:00      756000.0\n",
      "                          ...    \n",
      "2023-02-26 00:00:00    31049000.0\n",
      "2023-02-27 00:00:00    31101400.0\n",
      "2023-02-28 00:00:00    31052600.0\n",
      "2023-03-01 00:00:00    31041200.0\n",
      "2023-03-02 11:00:00    31160000.0\n",
      "Name: close, Length: 3263, dtype: float64\n"
     ]
    }
   ],
   "source": [
    "# 자동으로 이동평균 계산\n",
    "\n",
    "btc = pb.get_ohlcv(\"BTC\")\n",
    "close = btc['close']\n",
    "\n",
    "roll5 = close.rolling(5)\n",
    "mean5 = roll5.mean()\n",
    "print(mean5)\n",
    "\n",
    "# 5일간의 평균을 계산하기때문에 최초 4일은 계산 값이 없이 NaN 으로 표시"
   ]
  },
  {
   "cell_type": "code",
   "execution_count": 35,
   "metadata": {},
   "outputs": [
    {
     "name": "stdout",
     "output_type": "stream",
     "text": [
      "상승장\n"
     ]
    }
   ],
   "source": [
    "# 상승장 하락장 파악\n",
    "\n",
    "btc = pb.get_ohlcv(\"BTC\")\n",
    "close = btc['close']\n",
    "\n",
    "roll5 = close.rolling(5)\n",
    "mean5 = roll5.mean()\n",
    "last_mean5 = mean5[-2]\n",
    "\n",
    "# 비트 코인 현재값\n",
    "price = pb.get_current_price('BTC')\n",
    "\n",
    "#비교\n",
    "if price > last_mean5:\n",
    "    print('상승장')\n",
    "else:\n",
    "    print('하락장')"
   ]
  },
  {
   "cell_type": "code",
   "execution_count": null,
   "metadata": {},
   "outputs": [],
   "source": [
    "# 스타벅스 크롤링\n",
    "\n",
    "from selenium import webdriver\n",
    "import time\n",
    "from bs4 import BeautifulSoup as bs   # 페이지 정제\n",
    "from selenium.webdriver.common.by import By\n",
    "\n",
    "url = 'https://www.starbucks.co.kr/store/store_map.do'\n",
    "\n",
    "driver = webdriver.Chrome('chromedriver.exe')\n",
    "\n",
    "driver.get(url)"
   ]
  },
  {
   "cell_type": "code",
   "execution_count": null,
   "metadata": {},
   "outputs": [],
   "source": [
    "# 파이썬으로 브라우저에서 단추 클릭하기\n",
    "\n",
    "area_btn = '#container > div > form > fieldset > div > section > article.find_store_cont > article > header.loca_search > h3 > a'\n",
    "driver.find_element(By.CSS_SELECTOR, area_btn).click()\n",
    "\n",
    "time.sleep(2)\n",
    "\n",
    "seoul_btn = '#container > div > form > fieldset > div > section > article.find_store_cont > article > article:nth-child(4) > div.loca_step1 > div.loca_step1_cont > ul > li:nth-child(1) > a'\n",
    "driver.find_element(By.CSS_SELECTOR, seoul_btn).click()\n",
    "\n",
    "time.sleep(2)\n",
    "\n",
    "all_btn = '#mCSB_2_container > ul > li:nth-child(1) > a'\n",
    "driver.find_element(By.CSS_SELECTOR, all_btn).click()\n",
    "\n",
    "time.sleep(3)"
   ]
  },
  {
   "cell_type": "code",
   "execution_count": null,
   "metadata": {},
   "outputs": [],
   "source": [
    "txt = driver.page_source\n",
    "html = bs(txt)  # 문법 주의"
   ]
  },
  {
   "cell_type": "code",
   "execution_count": null,
   "metadata": {},
   "outputs": [],
   "source": [
    "len(html.select('li'))"
   ]
  },
  {
   "cell_type": "code",
   "execution_count": null,
   "metadata": {},
   "outputs": [],
   "source": [
    "\n",
    "len(html.select('li.quickResultLstCon'))"
   ]
  },
  {
   "cell_type": "code",
   "execution_count": null,
   "metadata": {},
   "outputs": [],
   "source": [
    "from pprint import pprint\n",
    "\n",
    "shops = html.select('li.quickResultLstCon')\n",
    "\n",
    "shop = shops[0]\n",
    "\n",
    "pprint(shop)"
   ]
  }
 ],
 "metadata": {
  "kernelspec": {
   "display_name": "base",
   "language": "python",
   "name": "python3"
  },
  "language_info": {
   "codemirror_mode": {
    "name": "ipython",
    "version": 3
   },
   "file_extension": ".py",
   "mimetype": "text/x-python",
   "name": "python",
   "nbconvert_exporter": "python",
   "pygments_lexer": "ipython3",
   "version": "3.9.13"
  },
  "orig_nbformat": 4,
  "vscode": {
   "interpreter": {
    "hash": "64b53f5fab811c36a5c9879d10518e161158f99155d18e88ccbb7f1b4472e7e4"
   }
  }
 },
 "nbformat": 4,
 "nbformat_minor": 2
}
