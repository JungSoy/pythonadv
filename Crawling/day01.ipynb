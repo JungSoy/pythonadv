{
 "cells": [
  {
   "cell_type": "code",
   "execution_count": 10,
   "metadata": {},
   "outputs": [
    {
     "ename": "IndentationError",
     "evalue": "unexpected indent (670245194.py, line 2)",
     "output_type": "error",
     "traceback": [
      "\u001b[1;36m  File \u001b[1;32m\"C:\\Users\\JUNG SO YOUNG\\AppData\\Local\\Temp\\ipykernel_10180\\670245194.py\"\u001b[1;36m, line \u001b[1;32m2\u001b[0m\n\u001b[1;33m    get_ipython().system('pip install bs4')\u001b[0m\n\u001b[1;37m    ^\u001b[0m\n\u001b[1;31mIndentationError\u001b[0m\u001b[1;31m:\u001b[0m unexpected indent\n"
     ]
    }
   ],
   "source": [
    "# 최초 한번만 설치 BeautifulSoup\n",
    "# !pip install bs4\n",
    "\n",
    "# 웹 페이지에서 긁어온 txt를 분석하기 쉽게 가공해주는 역할"
   ]
  },
  {
   "cell_type": "code",
   "execution_count": 39,
   "metadata": {},
   "outputs": [],
   "source": [
    "import requests                     # 웹 페이지 읽어오는 모듈\n",
    "from bs4 import BeautifulSoup as bs # 읽어온 웹페이지 정제\n",
    "import pandas as pd                 # 데이터 분석 모듈 필수!!"
   ]
  },
  {
   "cell_type": "code",
   "execution_count": 16,
   "metadata": {},
   "outputs": [],
   "source": [
    "url = \"https://www.naver.com/\"\n",
    "txt = requests.get(url)    #읽어온 페이지가 의미가 없는 그냥 글자일 뿐이다 \n",
    "# print(html)"
   ]
  },
  {
   "cell_type": "code",
   "execution_count": null,
   "metadata": {},
   "outputs": [],
   "source": [
    "url = \"https://www.naver.com/\"\n",
    "txt = requests.get(url) # 웹페이지 그냥 글자로 읽어오기\n",
    "html = bs(txt.text)     # 읽어온 그냥 글자를 의미가 있는 html로 변환 bs\n",
    "#print(html)"
   ]
  },
  {
   "cell_type": "code",
   "execution_count": 22,
   "metadata": {},
   "outputs": [
    {
     "ename": "SyntaxError",
     "evalue": "unmatched ')' (2096737332.py, line 9)",
     "output_type": "error",
     "traceback": [
      "\u001b[1;36m  File \u001b[1;32m\"C:\\Users\\JUNG SO YOUNG\\AppData\\Local\\Temp\\ipykernel_10180\\2096737332.py\"\u001b[1;36m, line \u001b[1;32m9\u001b[0m\n\u001b[1;33m    html.select('tr'))\u001b[0m\n\u001b[1;37m                     ^\u001b[0m\n\u001b[1;31mSyntaxError\u001b[0m\u001b[1;31m:\u001b[0m unmatched ')'\n"
     ]
    }
   ],
   "source": [
    "##################################################################\n",
    "#                       Bugs 차트 읽어오기\n",
    "##################################################################\n",
    "\n",
    "url = \"https://music.bugs.co.kr/chart/\"\n",
    "txt = requests.get(url) # 웹페이지 그냥 글자로 읽어오기\n",
    "html = bs(txt.text)     # 읽어온 그냥 글자를 의미가 있는 html로 변환 bs\n",
    "#print(html)\n"
   ]
  },
  {
   "cell_type": "code",
   "execution_count": 23,
   "metadata": {},
   "outputs": [
    {
     "data": {
      "text/plain": [
       "104"
      ]
     },
     "execution_count": 23,
     "metadata": {},
     "output_type": "execute_result"
    }
   ],
   "source": [
    "len(html.select('tr'))"
   ]
  },
  {
   "cell_type": "code",
   "execution_count": 24,
   "metadata": {},
   "outputs": [
    {
     "data": {
      "text/plain": [
       "103"
      ]
     },
     "execution_count": 24,
     "metadata": {},
     "output_type": "execute_result"
    }
   ],
   "source": [
    "len(html.select('tbody > tr'))"
   ]
  },
  {
   "cell_type": "code",
   "execution_count": 25,
   "metadata": {},
   "outputs": [
    {
     "data": {
      "text/plain": [
       "103"
      ]
     },
     "execution_count": 25,
     "metadata": {},
     "output_type": "execute_result"
    }
   ],
   "source": [
    "len(html.select('table > tbody > tr'))  # 범위를 점차 확대해가면서 줄인다."
   ]
  },
  {
   "cell_type": "code",
   "execution_count": 26,
   "metadata": {},
   "outputs": [
    {
     "data": {
      "text/plain": [
       "100"
      ]
     },
     "execution_count": 26,
     "metadata": {},
     "output_type": "execute_result"
    }
   ],
   "source": [
    "len(html.select('table.byChart > tbody > tr'))  # .점은 클래스를 의미한다.\n",
    "\n",
    "# 최종 원하는 100곡을 찾을 수 있었다."
   ]
  },
  {
   "cell_type": "code",
   "execution_count": 34,
   "metadata": {},
   "outputs": [],
   "source": [
    "# 전체 소스에서 위에서 찾아낸 100개의 tr들만을 추출하자.\n",
    "\n",
    "songs = html.select('table.byChart > tbody > tr')\n",
    "#print(songs)"
   ]
  },
  {
   "cell_type": "code",
   "execution_count": 35,
   "metadata": {},
   "outputs": [],
   "source": [
    "song = songs[0]\n",
    "#print(song)"
   ]
  },
  {
   "cell_type": "code",
   "execution_count": 29,
   "metadata": {},
   "outputs": [
    {
     "data": {
      "text/plain": [
       "11"
      ]
     },
     "execution_count": 29,
     "metadata": {},
     "output_type": "execute_result"
    }
   ],
   "source": [
    "len(song.select('a'))"
   ]
  },
  {
   "cell_type": "code",
   "execution_count": 30,
   "metadata": {},
   "outputs": [
    {
     "data": {
      "text/plain": [
       "2"
      ]
     },
     "execution_count": 30,
     "metadata": {},
     "output_type": "execute_result"
    }
   ],
   "source": [
    "len(song.select('p > a'))"
   ]
  },
  {
   "cell_type": "code",
   "execution_count": 31,
   "metadata": {},
   "outputs": [
    {
     "data": {
      "text/plain": [
       "1"
      ]
     },
     "execution_count": 31,
     "metadata": {},
     "output_type": "execute_result"
    }
   ],
   "source": [
    "len(song.select('p.title > a'))"
   ]
  },
  {
   "cell_type": "code",
   "execution_count": 32,
   "metadata": {},
   "outputs": [
    {
     "name": "stdout",
     "output_type": "stream",
     "text": [
      "[<a adultcheckval=\"1\" aria-label=\"새창\" href=\"javascript:;\" onclick=\"bugs.wiselog.area('list_tr_09_chart');bugs.music.listen('6184997',true);\n",
      "\" title=\"Ditto\">Ditto</a>]\n"
     ]
    }
   ],
   "source": [
    "print(song.select('p.title > a'))"
   ]
  },
  {
   "cell_type": "code",
   "execution_count": 33,
   "metadata": {},
   "outputs": [
    {
     "name": "stdout",
     "output_type": "stream",
     "text": [
      "Ditto\n"
     ]
    }
   ],
   "source": [
    "print(song.select('p.title > a')[0].text)"
   ]
  },
  {
   "cell_type": "code",
   "execution_count": 37,
   "metadata": {},
   "outputs": [
    {
     "name": "stdout",
     "output_type": "stream",
     "text": [
      "OMG\n",
      "NewJeans\n"
     ]
    }
   ],
   "source": [
    "# 1등 노래제목 추출 완료\n",
    "\n",
    "# 2등 노래제목 추출 하세요\n",
    "print(songs[1].select('p.title > a')[0].text)\n",
    "\n",
    "# 1등 가수명을 추출 하세요\n",
    "print(song.select('p.artist > a')[0].text)"
   ]
  },
  {
   "cell_type": "code",
   "execution_count": 41,
   "metadata": {},
   "outputs": [
    {
     "data": {
      "text/html": [
       "<div>\n",
       "<style scoped>\n",
       "    .dataframe tbody tr th:only-of-type {\n",
       "        vertical-align: middle;\n",
       "    }\n",
       "\n",
       "    .dataframe tbody tr th {\n",
       "        vertical-align: top;\n",
       "    }\n",
       "\n",
       "    .dataframe thead th {\n",
       "        text-align: right;\n",
       "    }\n",
       "</style>\n",
       "<table border=\"1\" class=\"dataframe\">\n",
       "  <thead>\n",
       "    <tr style=\"text-align: right;\">\n",
       "      <th></th>\n",
       "      <th>서비스</th>\n",
       "      <th>순위</th>\n",
       "      <th>타이틀</th>\n",
       "      <th>가수</th>\n",
       "    </tr>\n",
       "  </thead>\n",
       "  <tbody>\n",
       "    <tr>\n",
       "      <th>0</th>\n",
       "      <td>Bugs</td>\n",
       "      <td>1</td>\n",
       "      <td>Ditto</td>\n",
       "      <td>NewJeans</td>\n",
       "    </tr>\n",
       "    <tr>\n",
       "      <th>1</th>\n",
       "      <td>Bugs</td>\n",
       "      <td>2</td>\n",
       "      <td>OMG</td>\n",
       "      <td>NewJeans</td>\n",
       "    </tr>\n",
       "    <tr>\n",
       "      <th>2</th>\n",
       "      <td>Bugs</td>\n",
       "      <td>3</td>\n",
       "      <td>Hype Boy</td>\n",
       "      <td>NewJeans</td>\n",
       "    </tr>\n",
       "    <tr>\n",
       "      <th>3</th>\n",
       "      <td>Bugs</td>\n",
       "      <td>4</td>\n",
       "      <td>파이팅 해야지 (Feat. 이영지)</td>\n",
       "      <td>부석순(SEVENTEEN)</td>\n",
       "    </tr>\n",
       "    <tr>\n",
       "      <th>4</th>\n",
       "      <td>Bugs</td>\n",
       "      <td>5</td>\n",
       "      <td>Teddy Bear</td>\n",
       "      <td>STAYC(스테이씨)</td>\n",
       "    </tr>\n",
       "    <tr>\n",
       "      <th>...</th>\n",
       "      <td>...</td>\n",
       "      <td>...</td>\n",
       "      <td>...</td>\n",
       "      <td>...</td>\n",
       "    </tr>\n",
       "    <tr>\n",
       "      <th>95</th>\n",
       "      <td>Bugs</td>\n",
       "      <td>96</td>\n",
       "      <td>너와 함께</td>\n",
       "      <td>김민석 (멜로망스)</td>\n",
       "    </tr>\n",
       "    <tr>\n",
       "      <th>96</th>\n",
       "      <td>Bugs</td>\n",
       "      <td>97</td>\n",
       "      <td>DICE</td>\n",
       "      <td>NMIXX</td>\n",
       "    </tr>\n",
       "    <tr>\n",
       "      <th>97</th>\n",
       "      <td>Bugs</td>\n",
       "      <td>98</td>\n",
       "      <td>Snowman</td>\n",
       "      <td>Sia(시아)</td>\n",
       "    </tr>\n",
       "    <tr>\n",
       "      <th>98</th>\n",
       "      <td>Bugs</td>\n",
       "      <td>99</td>\n",
       "      <td>Life Goes On</td>\n",
       "      <td>방탄소년단</td>\n",
       "    </tr>\n",
       "    <tr>\n",
       "      <th>99</th>\n",
       "      <td>Bugs</td>\n",
       "      <td>100</td>\n",
       "      <td>눈이 오잖아(Feat.헤이즈)</td>\n",
       "      <td>이무진</td>\n",
       "    </tr>\n",
       "  </tbody>\n",
       "</table>\n",
       "<p>100 rows × 4 columns</p>\n",
       "</div>"
      ],
      "text/plain": [
       "     서비스   순위                  타이틀              가수\n",
       "0   Bugs    1                Ditto        NewJeans\n",
       "1   Bugs    2                  OMG        NewJeans\n",
       "2   Bugs    3             Hype Boy        NewJeans\n",
       "3   Bugs    4  파이팅 해야지 (Feat. 이영지)  부석순(SEVENTEEN)\n",
       "4   Bugs    5           Teddy Bear     STAYC(스테이씨)\n",
       "..   ...  ...                  ...             ...\n",
       "95  Bugs   96                너와 함께      김민석 (멜로망스)\n",
       "96  Bugs   97                 DICE           NMIXX\n",
       "97  Bugs   98              Snowman         Sia(시아)\n",
       "98  Bugs   99         Life Goes On           방탄소년단\n",
       "99  Bugs  100     눈이 오잖아(Feat.헤이즈)             이무진\n",
       "\n",
       "[100 rows x 4 columns]"
      ]
     },
     "execution_count": 41,
     "metadata": {},
     "output_type": "execute_result"
    }
   ],
   "source": [
    "# 전체 100곡의 노래제목과 가수명 추출\n",
    "\n",
    "song_data = []\n",
    "rank = 1\n",
    "\n",
    "for song in songs:\n",
    "     \n",
    "    title = song.select('p.title > a')[0].text \n",
    "    singer = song.select('p.artist > a')[0].text\n",
    "\n",
    "    song_data.append(['Bugs', rank, title, singer])\n",
    "    rank += 1\n",
    "\n",
    "\n",
    "df =  pd.DataFrame(song_data, columns = ['서비스', '순위', '타이틀', '가수'])\n",
    "df"
   ]
  },
  {
   "cell_type": "code",
   "execution_count": 42,
   "metadata": {},
   "outputs": [],
   "source": [
    "# df 을 excel 파일로 변환\n",
    "\n",
    "df.to_excel('bugs.xlsx',index=False)"
   ]
  },
  {
   "cell_type": "code",
   "execution_count": 45,
   "metadata": {},
   "outputs": [
    {
     "name": "stdout",
     "output_type": "stream",
     "text": [
      "Collecting selenium\n",
      "  Downloading selenium-4.8.2-py3-none-any.whl (6.9 MB)\n",
      "     ---------------------------------------- 6.9/6.9 MB 8.5 MB/s eta 0:00:00\n",
      "Collecting trio~=0.17\n",
      "  Downloading trio-0.22.0-py3-none-any.whl (384 kB)\n",
      "     -------------------------------------- 384.9/384.9 kB 8.0 MB/s eta 0:00:00\n",
      "Requirement already satisfied: certifi>=2021.10.8 in c:\\users\\jung so young\\anaconda3\\lib\\site-packages (from selenium) (2022.9.14)\n",
      "Requirement already satisfied: urllib3[socks]~=1.26 in c:\\users\\jung so young\\anaconda3\\lib\\site-packages (from selenium) (1.26.11)\n",
      "Collecting trio-websocket~=0.9\n",
      "  Downloading trio_websocket-0.9.2-py3-none-any.whl (16 kB)\n",
      "Collecting outcome\n",
      "  Downloading outcome-1.2.0-py2.py3-none-any.whl (9.7 kB)\n",
      "Requirement already satisfied: sniffio in c:\\users\\jung so young\\anaconda3\\lib\\site-packages (from trio~=0.17->selenium) (1.2.0)\n",
      "Collecting exceptiongroup>=1.0.0rc9\n",
      "  Downloading exceptiongroup-1.1.0-py3-none-any.whl (14 kB)\n",
      "Requirement already satisfied: idna in c:\\users\\jung so young\\anaconda3\\lib\\site-packages (from trio~=0.17->selenium) (3.3)\n",
      "Collecting async-generator>=1.9\n",
      "  Downloading async_generator-1.10-py3-none-any.whl (18 kB)\n",
      "Requirement already satisfied: attrs>=19.2.0 in c:\\users\\jung so young\\anaconda3\\lib\\site-packages (from trio~=0.17->selenium) (21.4.0)\n",
      "Requirement already satisfied: sortedcontainers in c:\\users\\jung so young\\anaconda3\\lib\\site-packages (from trio~=0.17->selenium) (2.4.0)\n",
      "Requirement already satisfied: cffi>=1.14 in c:\\users\\jung so young\\anaconda3\\lib\\site-packages (from trio~=0.17->selenium) (1.15.1)\n",
      "Collecting wsproto>=0.14\n",
      "  Downloading wsproto-1.2.0-py3-none-any.whl (24 kB)\n",
      "Requirement already satisfied: PySocks!=1.5.7,<2.0,>=1.5.6 in c:\\users\\jung so young\\anaconda3\\lib\\site-packages (from urllib3[socks]~=1.26->selenium) (1.7.1)\n",
      "Requirement already satisfied: pycparser in c:\\users\\jung so young\\anaconda3\\lib\\site-packages (from cffi>=1.14->trio~=0.17->selenium) (2.21)\n",
      "Collecting h11<1,>=0.9.0\n",
      "  Downloading h11-0.14.0-py3-none-any.whl (58 kB)\n",
      "     ---------------------------------------- 58.3/58.3 kB ? eta 0:00:00\n",
      "Installing collected packages: outcome, h11, exceptiongroup, async-generator, wsproto, trio, trio-websocket, selenium\n",
      "Successfully installed async-generator-1.10 exceptiongroup-1.1.0 h11-0.14.0 outcome-1.2.0 selenium-4.8.2 trio-0.22.0 trio-websocket-0.9.2 wsproto-1.2.0\n"
     ]
    }
   ],
   "source": [
    "# !pip install selenium\n",
    "# 위에서의 request 와는 다른 방식의 크롤링 모듈"
   ]
  },
  {
   "cell_type": "code",
   "execution_count": 60,
   "metadata": {},
   "outputs": [
    {
     "name": "stderr",
     "output_type": "stream",
     "text": [
      "C:\\Users\\JUNG SO YOUNG\\AppData\\Local\\Temp\\ipykernel_10180\\629570932.py:17: DeprecationWarning: executable_path has been deprecated, please pass in a Service object\n",
      "  driver = webdriver.Chrome('chromedriver.exe')\n"
     ]
    },
    {
     "ename": "NoSuchWindowException",
     "evalue": "Message: no such window: target window already closed\nfrom unknown error: web view not found\n  (Session info: chrome=110.0.5481.105)\nStacktrace:\nBacktrace:\n\t(No symbol) [0x009F37D3]\n\t(No symbol) [0x00988B81]\n\t(No symbol) [0x0088B36D]\n\t(No symbol) [0x0086E5DA]\n\t(No symbol) [0x008DF0CB]\n\t(No symbol) [0x008F0A56]\n\t(No symbol) [0x008DB216]\n\t(No symbol) [0x008B0D97]\n\t(No symbol) [0x008B253D]\n\tGetHandleVerifier [0x00C6ABF2+2510930]\n\tGetHandleVerifier [0x00C98EC1+2700065]\n\tGetHandleVerifier [0x00C9C86C+2714828]\n\tGetHandleVerifier [0x00AA3480+645344]\n\t(No symbol) [0x00990FD2]\n\t(No symbol) [0x00996C68]\n\t(No symbol) [0x00996D4B]\n\t(No symbol) [0x009A0D6B]\n\tBaseThreadInitThunk [0x778800F9+25]\n\tRtlGetAppContainerNamedObjectPath [0x77A07BBE+286]\n\tRtlGetAppContainerNamedObjectPath [0x77A07B8E+238]\n",
     "output_type": "error",
     "traceback": [
      "\u001b[1;31m---------------------------------------------------------------------------\u001b[0m",
      "\u001b[1;31mNoSuchWindowException\u001b[0m                     Traceback (most recent call last)",
      "\u001b[1;32m~\\AppData\\Local\\Temp\\ipykernel_10180\\629570932.py\u001b[0m in \u001b[0;36m<module>\u001b[1;34m\u001b[0m\n\u001b[0;32m     18\u001b[0m \u001b[0mdriver\u001b[0m\u001b[1;33m.\u001b[0m\u001b[0mget\u001b[0m\u001b[1;33m(\u001b[0m\u001b[1;34m\"https://www.melon.com/chart/index.htm\"\u001b[0m\u001b[1;33m)\u001b[0m\u001b[1;33m\u001b[0m\u001b[1;33m\u001b[0m\u001b[0m\n\u001b[0;32m     19\u001b[0m \u001b[1;33m\u001b[0m\u001b[0m\n\u001b[1;32m---> 20\u001b[1;33m \u001b[0mtxt\u001b[0m \u001b[1;33m=\u001b[0m \u001b[0mdriver\u001b[0m\u001b[1;33m.\u001b[0m\u001b[0mpage_source\u001b[0m\u001b[1;33m\u001b[0m\u001b[1;33m\u001b[0m\u001b[0m\n\u001b[0m\u001b[0;32m     21\u001b[0m \u001b[0mhtml\u001b[0m \u001b[1;33m=\u001b[0m \u001b[0mbs\u001b[0m\u001b[1;33m(\u001b[0m\u001b[0mtxt\u001b[0m\u001b[1;33m)\u001b[0m \u001b[1;31m# 벅스 문법과 약간 다름\u001b[0m\u001b[1;33m\u001b[0m\u001b[1;33m\u001b[0m\u001b[0m\n\u001b[0;32m     22\u001b[0m \u001b[1;33m\u001b[0m\u001b[0m\n",
      "\u001b[1;32mc:\\Users\\JUNG SO YOUNG\\anaconda3\\lib\\site-packages\\selenium\\webdriver\\remote\\webdriver.py\u001b[0m in \u001b[0;36mpage_source\u001b[1;34m(self)\u001b[0m\n\u001b[0;32m    539\u001b[0m                 \u001b[0mdriver\u001b[0m\u001b[1;33m.\u001b[0m\u001b[0mpage_source\u001b[0m\u001b[1;33m\u001b[0m\u001b[1;33m\u001b[0m\u001b[0m\n\u001b[0;32m    540\u001b[0m         \"\"\"\n\u001b[1;32m--> 541\u001b[1;33m         \u001b[1;32mreturn\u001b[0m \u001b[0mself\u001b[0m\u001b[1;33m.\u001b[0m\u001b[0mexecute\u001b[0m\u001b[1;33m(\u001b[0m\u001b[0mCommand\u001b[0m\u001b[1;33m.\u001b[0m\u001b[0mGET_PAGE_SOURCE\u001b[0m\u001b[1;33m)\u001b[0m\u001b[1;33m[\u001b[0m\u001b[1;34m\"value\"\u001b[0m\u001b[1;33m]\u001b[0m\u001b[1;33m\u001b[0m\u001b[1;33m\u001b[0m\u001b[0m\n\u001b[0m\u001b[0;32m    542\u001b[0m \u001b[1;33m\u001b[0m\u001b[0m\n\u001b[0;32m    543\u001b[0m     \u001b[1;32mdef\u001b[0m \u001b[0mclose\u001b[0m\u001b[1;33m(\u001b[0m\u001b[0mself\u001b[0m\u001b[1;33m)\u001b[0m \u001b[1;33m->\u001b[0m \u001b[1;32mNone\u001b[0m\u001b[1;33m:\u001b[0m\u001b[1;33m\u001b[0m\u001b[1;33m\u001b[0m\u001b[0m\n",
      "\u001b[1;32mc:\\Users\\JUNG SO YOUNG\\anaconda3\\lib\\site-packages\\selenium\\webdriver\\remote\\webdriver.py\u001b[0m in \u001b[0;36mexecute\u001b[1;34m(self, driver_command, params)\u001b[0m\n\u001b[0;32m    438\u001b[0m         \u001b[0mresponse\u001b[0m \u001b[1;33m=\u001b[0m \u001b[0mself\u001b[0m\u001b[1;33m.\u001b[0m\u001b[0mcommand_executor\u001b[0m\u001b[1;33m.\u001b[0m\u001b[0mexecute\u001b[0m\u001b[1;33m(\u001b[0m\u001b[0mdriver_command\u001b[0m\u001b[1;33m,\u001b[0m \u001b[0mparams\u001b[0m\u001b[1;33m)\u001b[0m\u001b[1;33m\u001b[0m\u001b[1;33m\u001b[0m\u001b[0m\n\u001b[0;32m    439\u001b[0m         \u001b[1;32mif\u001b[0m \u001b[0mresponse\u001b[0m\u001b[1;33m:\u001b[0m\u001b[1;33m\u001b[0m\u001b[1;33m\u001b[0m\u001b[0m\n\u001b[1;32m--> 440\u001b[1;33m             \u001b[0mself\u001b[0m\u001b[1;33m.\u001b[0m\u001b[0merror_handler\u001b[0m\u001b[1;33m.\u001b[0m\u001b[0mcheck_response\u001b[0m\u001b[1;33m(\u001b[0m\u001b[0mresponse\u001b[0m\u001b[1;33m)\u001b[0m\u001b[1;33m\u001b[0m\u001b[1;33m\u001b[0m\u001b[0m\n\u001b[0m\u001b[0;32m    441\u001b[0m             \u001b[0mresponse\u001b[0m\u001b[1;33m[\u001b[0m\u001b[1;34m\"value\"\u001b[0m\u001b[1;33m]\u001b[0m \u001b[1;33m=\u001b[0m \u001b[0mself\u001b[0m\u001b[1;33m.\u001b[0m\u001b[0m_unwrap_value\u001b[0m\u001b[1;33m(\u001b[0m\u001b[0mresponse\u001b[0m\u001b[1;33m.\u001b[0m\u001b[0mget\u001b[0m\u001b[1;33m(\u001b[0m\u001b[1;34m\"value\"\u001b[0m\u001b[1;33m,\u001b[0m \u001b[1;32mNone\u001b[0m\u001b[1;33m)\u001b[0m\u001b[1;33m)\u001b[0m\u001b[1;33m\u001b[0m\u001b[1;33m\u001b[0m\u001b[0m\n\u001b[0;32m    442\u001b[0m             \u001b[1;32mreturn\u001b[0m \u001b[0mresponse\u001b[0m\u001b[1;33m\u001b[0m\u001b[1;33m\u001b[0m\u001b[0m\n",
      "\u001b[1;32mc:\\Users\\JUNG SO YOUNG\\anaconda3\\lib\\site-packages\\selenium\\webdriver\\remote\\errorhandler.py\u001b[0m in \u001b[0;36mcheck_response\u001b[1;34m(self, response)\u001b[0m\n\u001b[0;32m    243\u001b[0m                 \u001b[0malert_text\u001b[0m \u001b[1;33m=\u001b[0m \u001b[0mvalue\u001b[0m\u001b[1;33m[\u001b[0m\u001b[1;34m\"alert\"\u001b[0m\u001b[1;33m]\u001b[0m\u001b[1;33m.\u001b[0m\u001b[0mget\u001b[0m\u001b[1;33m(\u001b[0m\u001b[1;34m\"text\"\u001b[0m\u001b[1;33m)\u001b[0m\u001b[1;33m\u001b[0m\u001b[1;33m\u001b[0m\u001b[0m\n\u001b[0;32m    244\u001b[0m             \u001b[1;32mraise\u001b[0m \u001b[0mexception_class\u001b[0m\u001b[1;33m(\u001b[0m\u001b[0mmessage\u001b[0m\u001b[1;33m,\u001b[0m \u001b[0mscreen\u001b[0m\u001b[1;33m,\u001b[0m \u001b[0mstacktrace\u001b[0m\u001b[1;33m,\u001b[0m \u001b[0malert_text\u001b[0m\u001b[1;33m)\u001b[0m  \u001b[1;31m# type: ignore[call-arg]  # mypy is not smart enough here\u001b[0m\u001b[1;33m\u001b[0m\u001b[1;33m\u001b[0m\u001b[0m\n\u001b[1;32m--> 245\u001b[1;33m         \u001b[1;32mraise\u001b[0m \u001b[0mexception_class\u001b[0m\u001b[1;33m(\u001b[0m\u001b[0mmessage\u001b[0m\u001b[1;33m,\u001b[0m \u001b[0mscreen\u001b[0m\u001b[1;33m,\u001b[0m \u001b[0mstacktrace\u001b[0m\u001b[1;33m)\u001b[0m\u001b[1;33m\u001b[0m\u001b[1;33m\u001b[0m\u001b[0m\n\u001b[0m",
      "\u001b[1;31mNoSuchWindowException\u001b[0m: Message: no such window: target window already closed\nfrom unknown error: web view not found\n  (Session info: chrome=110.0.5481.105)\nStacktrace:\nBacktrace:\n\t(No symbol) [0x009F37D3]\n\t(No symbol) [0x00988B81]\n\t(No symbol) [0x0088B36D]\n\t(No symbol) [0x0086E5DA]\n\t(No symbol) [0x008DF0CB]\n\t(No symbol) [0x008F0A56]\n\t(No symbol) [0x008DB216]\n\t(No symbol) [0x008B0D97]\n\t(No symbol) [0x008B253D]\n\tGetHandleVerifier [0x00C6ABF2+2510930]\n\tGetHandleVerifier [0x00C98EC1+2700065]\n\tGetHandleVerifier [0x00C9C86C+2714828]\n\tGetHandleVerifier [0x00AA3480+645344]\n\t(No symbol) [0x00990FD2]\n\t(No symbol) [0x00996C68]\n\t(No symbol) [0x00996D4B]\n\t(No symbol) [0x009A0D6B]\n\tBaseThreadInitThunk [0x778800F9+25]\n\tRtlGetAppContainerNamedObjectPath [0x77A07BBE+286]\n\tRtlGetAppContainerNamedObjectPath [0x77A07B8E+238]\n"
     ]
    }
   ],
   "source": [
    "##################################################################\n",
    "#                    Melon 차트 읽어오기\n",
    "##################################################################\n",
    "\n",
    "# url = \"https://www.melon.com/chart/\"\n",
    "# txt = requests.get(url) # 웹페이지 그냥 글자로 읽어오기\n",
    "# html = bs(txt.text)     # 읽어온 그냥 글자를 의미가 있는 html로 변환 bs\n",
    "# print(html)\n",
    "\n",
    "# 멜론도 위에서의 벅스처럼 크롤링을 시도하였으나 사이트에서 크롤링을 막고 있다.\n",
    "# 따라서 다른 방식으로 크롤링을 시도해야 한다.\n",
    "\n",
    "from bs4 import BeautifulSoup as bs # 읽어온 웹페이지 정제\n",
    "import pandas as pd                 # 데이터 분석 모듈 필수!!\n",
    "from selenium import webdriver  # 위에서의 reqeust 와는 다른 방식\n",
    "\n",
    "driver = webdriver.Chrome('chromedriver.exe')\n",
    "driver.get(\"https://www.melon.com/chart/index.htm\")\n",
    "\n",
    "txt = driver.page_source\n",
    "html = bs(txt) # 벅스 문법과 약간 다름\n",
    "\n",
    "print(html)"
   ]
  },
  {
   "cell_type": "code",
   "execution_count": 54,
   "metadata": {},
   "outputs": [
    {
     "data": {
      "text/plain": [
       "101"
      ]
     },
     "execution_count": 54,
     "metadata": {},
     "output_type": "execute_result"
    }
   ],
   "source": [
    "len(html.select('tr'))"
   ]
  },
  {
   "cell_type": "code",
   "execution_count": 55,
   "metadata": {},
   "outputs": [
    {
     "data": {
      "text/plain": [
       "100"
      ]
     },
     "execution_count": 55,
     "metadata": {},
     "output_type": "execute_result"
    }
   ],
   "source": [
    "len(html.select('tbody > tr'))"
   ]
  },
  {
   "cell_type": "code",
   "execution_count": 61,
   "metadata": {},
   "outputs": [],
   "source": [
    "songs = html.select('tbody > tr')"
   ]
  },
  {
   "cell_type": "code",
   "execution_count": 62,
   "metadata": {},
   "outputs": [],
   "source": [
    "song = songs[0]"
   ]
  },
  {
   "cell_type": "code",
   "execution_count": 56,
   "metadata": {},
   "outputs": [
    {
     "name": "stdout",
     "output_type": "stream",
     "text": [
      "<tr albumid=\"4068421\" artistid=\"20056684\" multiartist=\"N\" mvid=\"604454\" rowtype=\"track\" trackid=\"6138444\">\n",
      "<input name=\"_isStream\" type=\"hidden\" value=\"6138444\"/>\n",
      "<input name=\"_isDown\" type=\"hidden\" value=\"6138444\"/>\n",
      "<td class=\"check\"><input buyminquality=\"T\" disc_id=\"1\" name=\"check\" title=\"눈이 오잖아(Feat.헤이즈)\" type=\"checkbox\" value=\"6138444\"/></td>\n",
      "<td>\n",
      "<div class=\"ranking\">\n",
      "<strong>100</strong>\n",
      "<p class=\"change none\"><em>0</em><span>변동없음</span></p>\n",
      "</div>\n",
      "</td>\n",
      "<td>\n",
      "<a class=\"thumbnail\" href=\"https://music.bugs.co.kr/album/4068421?wl_ref=list_tr_07_chart\" onclick=\"\n",
      "\">\n",
      "<span class=\"mask\"></span>\n",
      "<img alt=\"눈이 오잖아(Feat.헤이즈) 대표이미지\" onerror=\"bugs.utils.imgError(this);\" src=\"https://image.bugsm.co.kr/album/images/50/40684/4068421.jpg?version=20211204070250.0\"/>\n",
      "</a>\n",
      "</td>\n",
      "<td>\n",
      "<a class=\"trackInfo\" href=\"https://music.bugs.co.kr/track/6138444?wl_ref=list_tr_08_chart\" onclick=\"\n",
      "\">곡정보</a>\n",
      "</td>\n",
      "<th scope=\"row\">\n",
      "<p adult_yn=\"N\" class=\"title\">\n",
      "<a adultcheckval=\"1\" aria-label=\"새창\" href=\"javascript:;\" onclick=\"bugs.wiselog.area('list_tr_09_chart');bugs.music.listen('6138444',true);\n",
      "\" title=\"눈이 오잖아(Feat.헤이즈)\">눈이 오잖아(Feat.헤이즈)</a>\n",
      "</p>\n",
      "</th>\n",
      "<td class=\"left\">\n",
      "<p class=\"artist\">\n",
      "<a href=\"https://music.bugs.co.kr/artist/20056684?wl_ref=list_tr_10_chart\" onclick=\"\n",
      "\" title=\"이무진\">이무진</a>\n",
      "</p>\n",
      "</td>\n",
      "<td class=\"left\">\n",
      "<a class=\"album\" href=\"https://music.bugs.co.kr/album/4068421?wl_ref=list_tr_11_chart\" onclick=\"\n",
      "\" title=\"눈이 오잖아(Feat.헤이즈)\">눈이 오잖아(Feat.헤이즈)</a>\n",
      "</td>\n",
      "<td>\n",
      "<a adultcheckval=\"1\" aria-label=\"새창\" class=\"btn play\" href=\"javascript:;\" onclick=\"bugs.wiselog.area('list_tr_12_chart');bugs.music.listen('6138444',true);\n",
      "\">듣기</a>\n",
      "</td>\n",
      "<td>\n",
      "<a adultcheckval=\"1\" aria-label=\"새창\" class=\"btn addPlaylist\" href=\"javascript:;\" onclick=\"bugs.wiselog.area('list_tr_13_chart');bugs.music.listen('6138444');\n",
      "\">재생목록에 추가</a>\n",
      "</td>\n",
      "<td>\n",
      "<a class=\"btn addAlbum\" href=\"javascript:;\" onclick=\"bugs.wiselog.area('list_tr_14_chart');bugs.music.addTrackToMyAlbum(this,'6138444');\n",
      "\" track_title=\"눈이 오잖아(Feat.헤이즈)\">내 앨범에 담기</a>\n",
      "</td>\n",
      "<td>\n",
      "<a adultcheckval=\"1\" aria-label=\"새창\" class=\"btn download flac\" href=\"javascript:;\" onclick=\"bugs.wiselog.area('list_tr_15_chart');bugs.layermenu.down(this,'6138444','true','true','44.1','false','', null );\n",
      "\"><em class=\"flac\">flac </em>다운로드</a>\n",
      "</td>\n",
      "<td>\n",
      "<a aria-label=\"새창\" class=\"btn viewMV\" href=\"javascript:;\" onclick=\"bugs.wiselog.area('list_tr_16_chart');\n",
      "bugs.layermenu.mv(this,6138444, 604454, 'Y', 'Y', 'Y', 'Y', 6138444, 'N','ALL', 'Y');\n",
      "\">영상 재생</a>\n",
      "</td>\n",
      "<td>\n",
      "<a artist_disp_nm=\"이무진\" artist_id=\"20056684\" class=\"btnActions\" href=\"javascript:;\" layer_type=\"CHART\" layerpositiontarget=\"td\" onclick=\"bugs.wiselog.area('list_tr_17_chart');\n",
      "bugs.layermenu.trackMoreAction(this,'6138444','0','4068421','bugs.music.listenRadioFromSeed(\\'6138444\\',\\'track\\');','N', 'Y', '_chart');\n",
      "\" track_title=\"눈이 오잖아(Feat.헤이즈)\">기타 기능</a>\n",
      "</td>\n",
      "</tr>\n"
     ]
    }
   ],
   "source": [
    "print(song)"
   ]
  },
  {
   "cell_type": "code",
   "execution_count": 63,
   "metadata": {},
   "outputs": [
    {
     "data": {
      "text/plain": [
       "6"
      ]
     },
     "execution_count": 63,
     "metadata": {},
     "output_type": "execute_result"
    }
   ],
   "source": [
    "len(song.select('a'))"
   ]
  },
  {
   "cell_type": "code",
   "execution_count": 64,
   "metadata": {},
   "outputs": [
    {
     "data": {
      "text/plain": [
       "2"
      ]
     },
     "execution_count": 64,
     "metadata": {},
     "output_type": "execute_result"
    }
   ],
   "source": [
    "len(song.select('span > a'))"
   ]
  },
  {
   "cell_type": "code",
   "execution_count": 65,
   "metadata": {},
   "outputs": [
    {
     "data": {
      "text/plain": [
       "1"
      ]
     },
     "execution_count": 65,
     "metadata": {},
     "output_type": "execute_result"
    }
   ],
   "source": [
    "len(song.select('div.rank01> span > a'))"
   ]
  },
  {
   "cell_type": "code",
   "execution_count": 66,
   "metadata": {},
   "outputs": [
    {
     "name": "stdout",
     "output_type": "stream",
     "text": [
      "[<a href=\"javascript:melon.play.playSong('1000002721',35945927);\" title=\"Ditto 재생\">Ditto</a>]\n"
     ]
    }
   ],
   "source": [
    "print(song.select('div.rank01> span > a'))"
   ]
  },
  {
   "cell_type": "code",
   "execution_count": 67,
   "metadata": {},
   "outputs": [
    {
     "name": "stdout",
     "output_type": "stream",
     "text": [
      "Ditto\n"
     ]
    }
   ],
   "source": [
    "print(song.select('div.rank01> span > a')[0].text)"
   ]
  },
  {
   "cell_type": "code",
   "execution_count": 68,
   "metadata": {},
   "outputs": [
    {
     "name": "stdout",
     "output_type": "stream",
     "text": [
      "NewJeans\n"
     ]
    }
   ],
   "source": [
    "print(song.select('div.rank02> a')[0].text)"
   ]
  },
  {
   "cell_type": "code",
   "execution_count": 69,
   "metadata": {},
   "outputs": [
    {
     "data": {
      "text/html": [
       "<div>\n",
       "<style scoped>\n",
       "    .dataframe tbody tr th:only-of-type {\n",
       "        vertical-align: middle;\n",
       "    }\n",
       "\n",
       "    .dataframe tbody tr th {\n",
       "        vertical-align: top;\n",
       "    }\n",
       "\n",
       "    .dataframe thead th {\n",
       "        text-align: right;\n",
       "    }\n",
       "</style>\n",
       "<table border=\"1\" class=\"dataframe\">\n",
       "  <thead>\n",
       "    <tr style=\"text-align: right;\">\n",
       "      <th></th>\n",
       "      <th>서비스</th>\n",
       "      <th>순위</th>\n",
       "      <th>타이틀</th>\n",
       "      <th>가수</th>\n",
       "    </tr>\n",
       "  </thead>\n",
       "  <tbody>\n",
       "    <tr>\n",
       "      <th>0</th>\n",
       "      <td>Melon</td>\n",
       "      <td>1</td>\n",
       "      <td>Ditto</td>\n",
       "      <td>NewJeans</td>\n",
       "    </tr>\n",
       "    <tr>\n",
       "      <th>1</th>\n",
       "      <td>Melon</td>\n",
       "      <td>2</td>\n",
       "      <td>OMG</td>\n",
       "      <td>NewJeans</td>\n",
       "    </tr>\n",
       "    <tr>\n",
       "      <th>2</th>\n",
       "      <td>Melon</td>\n",
       "      <td>3</td>\n",
       "      <td>Hype boy</td>\n",
       "      <td>NewJeans</td>\n",
       "    </tr>\n",
       "    <tr>\n",
       "      <th>3</th>\n",
       "      <td>Melon</td>\n",
       "      <td>4</td>\n",
       "      <td>파이팅 해야지 (Feat. 이영지)</td>\n",
       "      <td>부석순 (SEVENTEEN)</td>\n",
       "    </tr>\n",
       "    <tr>\n",
       "      <th>4</th>\n",
       "      <td>Melon</td>\n",
       "      <td>5</td>\n",
       "      <td>사건의 지평선</td>\n",
       "      <td>윤하 (YOUNHA)</td>\n",
       "    </tr>\n",
       "    <tr>\n",
       "      <th>...</th>\n",
       "      <td>...</td>\n",
       "      <td>...</td>\n",
       "      <td>...</td>\n",
       "      <td>...</td>\n",
       "    </tr>\n",
       "    <tr>\n",
       "      <th>95</th>\n",
       "      <td>Melon</td>\n",
       "      <td>96</td>\n",
       "      <td>ROAR</td>\n",
       "      <td>더보이즈 (THE BOYZ)</td>\n",
       "    </tr>\n",
       "    <tr>\n",
       "      <th>96</th>\n",
       "      <td>Melon</td>\n",
       "      <td>97</td>\n",
       "      <td>내 기쁨은 너가 벤틀리를 끄는 거야</td>\n",
       "      <td>김승민</td>\n",
       "    </tr>\n",
       "    <tr>\n",
       "      <th>97</th>\n",
       "      <td>Melon</td>\n",
       "      <td>98</td>\n",
       "      <td>LUNCH</td>\n",
       "      <td>부석순 (SEVENTEEN)</td>\n",
       "    </tr>\n",
       "    <tr>\n",
       "      <th>98</th>\n",
       "      <td>Melon</td>\n",
       "      <td>99</td>\n",
       "      <td>당신을 만나</td>\n",
       "      <td>김호중</td>\n",
       "    </tr>\n",
       "    <tr>\n",
       "      <th>99</th>\n",
       "      <td>Melon</td>\n",
       "      <td>100</td>\n",
       "      <td>Good Boy Gone Bad</td>\n",
       "      <td>투모로우바이투게더</td>\n",
       "    </tr>\n",
       "  </tbody>\n",
       "</table>\n",
       "<p>100 rows × 4 columns</p>\n",
       "</div>"
      ],
      "text/plain": [
       "      서비스   순위                  타이틀               가수\n",
       "0   Melon    1                Ditto         NewJeans\n",
       "1   Melon    2                  OMG         NewJeans\n",
       "2   Melon    3             Hype boy         NewJeans\n",
       "3   Melon    4  파이팅 해야지 (Feat. 이영지)  부석순 (SEVENTEEN)\n",
       "4   Melon    5              사건의 지평선      윤하 (YOUNHA)\n",
       "..    ...  ...                  ...              ...\n",
       "95  Melon   96                 ROAR  더보이즈 (THE BOYZ)\n",
       "96  Melon   97  내 기쁨은 너가 벤틀리를 끄는 거야              김승민\n",
       "97  Melon   98                LUNCH  부석순 (SEVENTEEN)\n",
       "98  Melon   99               당신을 만나              김호중\n",
       "99  Melon  100    Good Boy Gone Bad        투모로우바이투게더\n",
       "\n",
       "[100 rows x 4 columns]"
      ]
     },
     "execution_count": 69,
     "metadata": {},
     "output_type": "execute_result"
    }
   ],
   "source": [
    "song_data = []\n",
    "rank = 1\n",
    "\n",
    "for song in songs:\n",
    "    \n",
    "    title = song.select('div.rank01> span > a')[0].text\n",
    "    singer = song.select('div.rank02> a')[0].text\n",
    "\n",
    "    song_data.append(['Melon', rank, title, singer])\n",
    "    rank += 1\n",
    "\n",
    "\n",
    "\n",
    "df = pd.DataFrame(song_data, columns = ['서비스','순위','타이틀','가수'])\n",
    "df"
   ]
  },
  {
   "cell_type": "code",
   "execution_count": 70,
   "metadata": {},
   "outputs": [],
   "source": [
    "# df 을 excel 파일로 변환\n",
    "\n",
    "df.to_excel('melon.xlsx',index=False)"
   ]
  },
  {
   "cell_type": "code",
   "execution_count": 44,
   "metadata": {},
   "outputs": [
    {
     "name": "stdout",
     "output_type": "stream",
     "text": [
      "<html><body><br/>\n",
      "<br/>\n",
      "<center>\n",
      "<img src=\"http://www.geniemusic.co.kr/images/common/logo_r1.png\"/><br/>\n",
      "<h2> <meta content=\"text/html;charset=utf-8\" http-equiv=\"Content-Type\"/> ì ììì²­ì´ ë³´ìì ì±ì ìí´ ì°¨ë¨ëììµëë¤. ë¹ì¬ ê³ ê°ì¼í°ë¡ ë¬¸ìí´ì£¼ì­ìì¤.<br/><br/>\n",
      "The security policy of the connection request is blocked. Contact your customer service representative.<br/><br/>\n",
      "ì§ëë®¤ì§ ê³ ê°ì¼í° 1577-5337<br/><br/>\n",
      "</h2>\n",
      "</center>\n",
      "<br/></body></html>\n"
     ]
    }
   ],
   "source": [
    "##################################################################\n",
    "#                    지니 차트 읽어오기\n",
    "##################################################################\n",
    "\n",
    "url = \"https://mw.genie.co.kr/chart/\"\n",
    "txt = requests.get(url) # 웹페이지 그냥 글자로 읽어오기\n",
    "html = bs(txt.text)     # 읽어온 그냥 글자를 의미가 있는 html로 변환 bs\n",
    "print(html)\n",
    "\n"
   ]
  }
 ],
 "metadata": {
  "kernelspec": {
   "display_name": "base",
   "language": "python",
   "name": "python3"
  },
  "language_info": {
   "codemirror_mode": {
    "name": "ipython",
    "version": 3
   },
   "file_extension": ".py",
   "mimetype": "text/x-python",
   "name": "python",
   "nbconvert_exporter": "python",
   "pygments_lexer": "ipython3",
   "version": "3.9.13"
  },
  "orig_nbformat": 4,
  "vscode": {
   "interpreter": {
    "hash": "64b53f5fab811c36a5c9879d10518e161158f99155d18e88ccbb7f1b4472e7e4"
   }
  }
 },
 "nbformat": 4,
 "nbformat_minor": 2
}
